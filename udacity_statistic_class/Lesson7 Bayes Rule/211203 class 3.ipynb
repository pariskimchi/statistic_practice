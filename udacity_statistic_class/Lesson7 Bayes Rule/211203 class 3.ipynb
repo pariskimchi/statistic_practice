{
 "cells": [
  {
   "cell_type": "code",
   "execution_count": 3,
   "id": "f64847a6",
   "metadata": {},
   "outputs": [],
   "source": [
    "import numpy as np\n",
    "import pandas as pd \n",
    "import matplotlib.pyplot as plt"
   ]
  },
  {
   "cell_type": "markdown",
   "id": "2738e94e",
   "metadata": {},
   "source": [
    "### 조건부확률 공식 \n",
    "P(A|B) = P(B|A)* P(A)/p(B)"
   ]
  },
  {
   "cell_type": "code",
   "execution_count": 5,
   "id": "54082f1d",
   "metadata": {},
   "outputs": [],
   "source": [
    "# 빨강에 있을 확률 P(R) = 0.5\n",
    "# 초록에 있을 확률 P(G) = 0.5\n",
    "\n",
    "# 빨강이라고 인식할 확률, 빨강에 있을때 조건부 확률 0.8\n",
    "# P(see R|at R) = 0.8\n",
    "\n",
    "# 초록이라고 인식할 확률, 빨강에 있을때 조건부, 0.2\n",
    "# P(see G|at R) = 0.8\n",
    "\n",
    "# 초록이라고 인식할 확률, 초록에 있을때 조건부 확률 0.8\n",
    "# P(see G|at G) =0.8\n",
    "\n",
    "# 빨강이라고 인식할 확률, 초록에 있을때 조건부 확률 0.2\n",
    "#  P(see R|at G) = 0.2\n"
   ]
  },
  {
   "cell_type": "code",
   "execution_count": 6,
   "id": "25ba31ae",
   "metadata": {},
   "outputs": [],
   "source": [
    "# P(at R| see R) = ??\n",
    "# P(at G| see R) ==??\n",
    "\n"
   ]
  },
  {
   "cell_type": "code",
   "execution_count": null,
   "id": "2ea5d40a",
   "metadata": {},
   "outputs": [],
   "source": [
    "# 빨강이라고 인식할때, 빨강에 있을 확률은?\n",
    "# P(at R| see R) = p(see R| at R)*P(at red) / P(see red)\n",
    "# = 0.8*0.5/P(see red)"
   ]
  },
  {
   "cell_type": "code",
   "execution_count": 7,
   "id": "a2367a62",
   "metadata": {},
   "outputs": [
    {
     "data": {
      "text/plain": [
       "0.5"
      ]
     },
     "execution_count": 7,
     "metadata": {},
     "output_type": "execute_result"
    }
   ],
   "source": [
    "# P (see R)\n",
    "0.5*0.8+0.5*0.2"
   ]
  },
  {
   "cell_type": "code",
   "execution_count": 8,
   "id": "78ccd13d",
   "metadata": {},
   "outputs": [
    {
     "data": {
      "text/plain": [
       "0.8"
      ]
     },
     "execution_count": 8,
     "metadata": {},
     "output_type": "execute_result"
    }
   ],
   "source": [
    "0.8*0.5/0.5"
   ]
  },
  {
   "cell_type": "code",
   "execution_count": 10,
   "id": "96bcd39f",
   "metadata": {},
   "outputs": [
    {
     "data": {
      "text/plain": [
       "0.6153846153846154"
      ]
     },
     "execution_count": 10,
     "metadata": {},
     "output_type": "execute_result"
    }
   ],
   "source": [
    "# P(at R) =0.5 \n",
    "# P(at G) = 0.5\n",
    "\n",
    "#P(see R| at R)= 0.8\n",
    "#P(see G| at R) =0.2\n",
    "\n",
    "# P(see G| at G)=0.5\n",
    "# P(see R| at G)=0.5\n",
    "\n",
    "\n",
    "# P(at R| see R)??\n",
    "\n",
    "\n",
    "# P(at R| see R) = P(see R| atR)*P(at R) / P(see R)\n",
    "\n",
    "0.8*0.5/0.65\n"
   ]
  },
  {
   "cell_type": "code",
   "execution_count": null,
   "id": "dbfc559f",
   "metadata": {},
   "outputs": [],
   "source": []
  },
  {
   "cell_type": "code",
   "execution_count": 9,
   "id": "663feb83",
   "metadata": {},
   "outputs": [
    {
     "data": {
      "text/plain": [
       "0.65"
      ]
     },
     "execution_count": 9,
     "metadata": {},
     "output_type": "execute_result"
    }
   ],
   "source": [
    "# P(see R) \n",
    "0.5*0.8+0.5*0.5"
   ]
  },
  {
   "cell_type": "code",
   "execution_count": 11,
   "id": "c6243a34",
   "metadata": {},
   "outputs": [
    {
     "data": {
      "text/plain": [
       "0.3846153846153846"
      ]
     },
     "execution_count": 11,
     "metadata": {},
     "output_type": "execute_result"
    }
   ],
   "source": [
    "# P(at G| see R) = P(see R| at G)* P(at G) / P(see R)\n",
    "0.5*0.5/0.65"
   ]
  },
  {
   "cell_type": "code",
   "execution_count": null,
   "id": "52140997",
   "metadata": {},
   "outputs": [],
   "source": []
  },
  {
   "cell_type": "code",
   "execution_count": null,
   "id": "990ae7f6",
   "metadata": {},
   "outputs": [],
   "source": [
    "# P(A) = 1/3\n",
    "#P(B) = 1/3\n",
    "#P(c) = 1/3"
   ]
  },
  {
   "cell_type": "code",
   "execution_count": null,
   "id": "19346074",
   "metadata": {},
   "outputs": [],
   "source": [
    "# P(R|A) = 0.9\n",
    "# P(R|A) = P(A|R) * P(R)/P(A)\n",
    "#P(R|A)*P(A)/P(R) = P(A|R)\n",
    "(0.9*(1/3))/"
   ]
  },
  {
   "cell_type": "code",
   "execution_count": null,
   "id": "acba8421",
   "metadata": {},
   "outputs": [],
   "source": []
  },
  {
   "cell_type": "code",
   "execution_count": null,
   "id": "c1c9ab24",
   "metadata": {},
   "outputs": [],
   "source": [
    "# P(A,R)??"
   ]
  },
  {
   "cell_type": "code",
   "execution_count": null,
   "id": "61d28ea5",
   "metadata": {},
   "outputs": [],
   "source": []
  },
  {
   "cell_type": "code",
   "execution_count": 13,
   "id": "6f97ded4",
   "metadata": {},
   "outputs": [
    {
     "data": {
      "text/plain": [
       "0.021739130434782608"
      ]
     },
     "execution_count": 13,
     "metadata": {},
     "output_type": "execute_result"
    }
   ],
   "source": [
    "#P(home|rain)?\n",
    "#P( home| rain) = P(rain | home) * P(home) / P(rain)\n",
    "# P(rain)??\n",
    "\n",
    "# P(rain | home) = 0.01\n",
    "# P(not rain| home) = 0.99\n",
    "\n",
    "# P(rain |  gone) = 0.3\n",
    "#P(not rain | gone) = 0.7\n",
    "\n",
    "\n",
    "0.01*0.4/ 0.184"
   ]
  },
  {
   "cell_type": "code",
   "execution_count": 12,
   "id": "59dd9fa9",
   "metadata": {},
   "outputs": [
    {
     "data": {
      "text/plain": [
       "0.184"
      ]
     },
     "execution_count": 12,
     "metadata": {},
     "output_type": "execute_result"
    }
   ],
   "source": [
    "# P(rain?)\n",
    "0.01*0.4+0.3*0.6"
   ]
  },
  {
   "cell_type": "code",
   "execution_count": null,
   "id": "416be607",
   "metadata": {},
   "outputs": [],
   "source": [
    "# Q1 \n",
    "# P(a)=0.2\n",
    "#P(b) = 0.1"
   ]
  },
  {
   "cell_type": "code",
   "execution_count": 17,
   "id": "b24cd95d",
   "metadata": {},
   "outputs": [
    {
     "data": {
      "text/plain": [
       "0.6"
      ]
     },
     "execution_count": 17,
     "metadata": {},
     "output_type": "execute_result"
    }
   ],
   "source": [
    "# P(a) = 0.2 \n",
    "# P(b) = 0.1 \n",
    "# P(B|A) = 0.3\n",
    "# P(A|b) = P(B|A)*P(A)/P(B)\n",
    "(0.3*0.2)/0.1"
   ]
  },
  {
   "cell_type": "code",
   "execution_count": 18,
   "id": "60f4791e",
   "metadata": {},
   "outputs": [
    {
     "data": {
      "text/plain": [
       "0.7"
      ]
     },
     "execution_count": 18,
     "metadata": {},
     "output_type": "execute_result"
    }
   ],
   "source": [
    "# coin1:\n",
    "# P(h) = 0.5, P(t) = 0.5\n",
    "\n",
    "# coin2 :\n",
    "#P(h) = 0.9 , P(t) = 0.1\n",
    "\n",
    "0.5*0.5+0.5*0.9"
   ]
  },
  {
   "cell_type": "code",
   "execution_count": 19,
   "id": "d6bb4a0a",
   "metadata": {},
   "outputs": [
    {
     "data": {
      "text/plain": [
       "0.3"
      ]
     },
     "execution_count": 19,
     "metadata": {},
     "output_type": "execute_result"
    }
   ],
   "source": [
    "# 뒷면 나올 확률?\n",
    "0.5*0.5+0.5*0.1"
   ]
  },
  {
   "cell_type": "code",
   "execution_count": null,
   "id": "d4afc577",
   "metadata": {},
   "outputs": [],
   "source": []
  },
  {
   "cell_type": "code",
   "execution_count": null,
   "id": "65cdaaf8",
   "metadata": {},
   "outputs": [],
   "source": [
    "# P(s) = 0.4\n",
    "# P(not s)=0.6\n",
    "\n",
    "# p(y) = 0.1\n",
    "# P(not y) =0.9"
   ]
  },
  {
   "cell_type": "code",
   "execution_count": null,
   "id": "70b9b561",
   "metadata": {},
   "outputs": [],
   "source": [
    "# Q1 \n",
    "# P(y|s) = 0.12"
   ]
  },
  {
   "cell_type": "code",
   "execution_count": 20,
   "id": "5e51a4d3",
   "metadata": {},
   "outputs": [
    {
     "data": {
      "text/plain": [
       "0.48"
      ]
     },
     "execution_count": 20,
     "metadata": {},
     "output_type": "execute_result"
    }
   ],
   "source": [
    "# P(S|y)?\n",
    "\n",
    "# P(S|y) = P(Y|s)*P(S)/P(y)\n",
    "\n",
    "0.12*0.4/0.1"
   ]
  },
  {
   "cell_type": "code",
   "execution_count": null,
   "id": "3c574342",
   "metadata": {},
   "outputs": [],
   "source": [
    "# P(left) = 0.2\n",
    "\n",
    "# P(fast) = 0.4\n",
    "\n",
    "# P(fast|left) = 0.9\n"
   ]
  },
  {
   "cell_type": "code",
   "execution_count": 21,
   "id": "de578558",
   "metadata": {},
   "outputs": [],
   "source": [
    "#P(left|fast) = P(fast|left)*p(left)/p(fast)"
   ]
  },
  {
   "cell_type": "code",
   "execution_count": 22,
   "id": "68566f7c",
   "metadata": {
    "scrolled": true
   },
   "outputs": [
    {
     "data": {
      "text/plain": [
       "0.45"
      ]
     },
     "execution_count": 22,
     "metadata": {},
     "output_type": "execute_result"
    }
   ],
   "source": [
    "0.9*0.2/0.4"
   ]
  },
  {
   "cell_type": "code",
   "execution_count": 23,
   "id": "b3246f50",
   "metadata": {},
   "outputs": [],
   "source": [
    "#P(c) = 0.01\n",
    "#P(not c) =0.99\n",
    "# p(positive | C) = 0.9\n",
    "# p(negative| C)=0.1\n",
    "\n",
    "#P(positive| not C) = 0.05\n",
    "#P(negative| not C) = 0.95"
   ]
  },
  {
   "cell_type": "code",
   "execution_count": 25,
   "id": "a4dfcb8c",
   "metadata": {},
   "outputs": [
    {
     "data": {
      "text/plain": [
       "0.15384615384615385"
      ]
     },
     "execution_count": 25,
     "metadata": {},
     "output_type": "execute_result"
    }
   ],
   "source": [
    "# P(C|positive) = P(positive|C) * P(C)/P(positive)\n",
    "0.9*0.01/0.0585"
   ]
  },
  {
   "cell_type": "code",
   "execution_count": 24,
   "id": "fda540d0",
   "metadata": {},
   "outputs": [
    {
     "data": {
      "text/plain": [
       "0.0585"
      ]
     },
     "execution_count": 24,
     "metadata": {},
     "output_type": "execute_result"
    }
   ],
   "source": [
    "#P(positive)?\n",
    "0.01*0.9+0.99*0.05"
   ]
  },
  {
   "cell_type": "code",
   "execution_count": null,
   "id": "e23ad809",
   "metadata": {},
   "outputs": [],
   "source": []
  }
 ],
 "metadata": {
  "kernelspec": {
   "display_name": "Python 3",
   "language": "python",
   "name": "python3"
  },
  "language_info": {
   "codemirror_mode": {
    "name": "ipython",
    "version": 3
   },
   "file_extension": ".py",
   "mimetype": "text/x-python",
   "name": "python",
   "nbconvert_exporter": "python",
   "pygments_lexer": "ipython3",
   "version": "3.8.8"
  }
 },
 "nbformat": 4,
 "nbformat_minor": 5
}

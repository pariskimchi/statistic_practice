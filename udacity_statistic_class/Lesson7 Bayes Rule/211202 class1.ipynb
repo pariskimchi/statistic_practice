{
 "cells": [
  {
   "cell_type": "markdown",
   "id": "16c5eb01",
   "metadata": {},
   "source": []
  },
  {
   "cell_type": "code",
   "execution_count": null,
   "id": "a5f4d704",
   "metadata": {},
   "outputs": [],
   "source": [
    "# 0.01 암 \n",
    "#0.99 암 아님 \n",
    "\n",
    "# 암일때(0.01),0.9가 암이 맞다고 진단 \n",
    "#암일때 0.1이 암이 아니라고 진단 \n",
    "\n",
    "# 암이 아닐때(0.99) 0.1 암이라고 진단 \n",
    "# 암이 아닐때 (0.99) 0.9 암이 아니라고 진단 \n",
    "\n",
    "\n",
    "## 질문은??\n",
    "\n",
    "## 암이라고 진단됐을때, 너가 진짜 암일 확률은?\n",
    "\n",
    "\n",
    "# "
   ]
  },
  {
   "cell_type": "code",
   "execution_count": null,
   "id": "eb3c1c8d",
   "metadata": {},
   "outputs": [],
   "source": [
    "# 음성으로 판단했을때 암일 확률?\n",
    "\n",
    "\n",
    "#음성으로 판단했을때 암이 아닐 확률?\n"
   ]
  },
  {
   "cell_type": "code",
   "execution_count": 2,
   "id": "76e9a557",
   "metadata": {},
   "outputs": [
    {
     "name": "stdout",
     "output_type": "stream",
     "text": [
      "암일때 양성 암일때 음성 암아닐때 양성 암아닐때 음성\n"
     ]
    },
    {
     "data": {
      "text/plain": [
       "(0.009000000000000001, 0.001, 0.099, 0.891)"
      ]
     },
     "execution_count": 2,
     "metadata": {},
     "output_type": "execute_result"
    }
   ],
   "source": [
    "\n",
    "\n",
    "print('암일때 양성','암일때 음성','암아닐때 양성','암아닐때 음성')\n",
    "0.01*0.9, 0.01*0.1,0.99*0.1,0.99*0.9"
   ]
  },
  {
   "cell_type": "code",
   "execution_count": 3,
   "id": "d4508160",
   "metadata": {},
   "outputs": [
    {
     "data": {
      "text/plain": [
       "0.0011210762331838565"
      ]
     },
     "execution_count": 3,
     "metadata": {},
     "output_type": "execute_result"
    }
   ],
   "source": [
    "# 음성일때, 암일 확률은?\n",
    "0.001/0.892"
   ]
  },
  {
   "cell_type": "code",
   "execution_count": 4,
   "id": "135b6705",
   "metadata": {},
   "outputs": [
    {
     "data": {
      "text/plain": [
       "0.9988789237668162"
      ]
     },
     "execution_count": 4,
     "metadata": {},
     "output_type": "execute_result"
    }
   ],
   "source": [
    "# 조건부확률?\n",
    "# 음성일때, 음성이면서 암이 아닐 확률은?\n",
    "0.891/0.892"
   ]
  },
  {
   "cell_type": "code",
   "execution_count": 14,
   "id": "ec132a00",
   "metadata": {},
   "outputs": [
    {
     "data": {
      "text/plain": [
       "0.10800000000000001"
      ]
     },
     "execution_count": 14,
     "metadata": {},
     "output_type": "execute_result"
    }
   ],
   "source": [
    "(0.01*0.9+0.99*0.1)"
   ]
  },
  {
   "cell_type": "code",
   "execution_count": 15,
   "id": "3845a4d7",
   "metadata": {},
   "outputs": [
    {
     "data": {
      "text/plain": [
       "0.08333333333333333"
      ]
     },
     "execution_count": 15,
     "metadata": {},
     "output_type": "execute_result"
    }
   ],
   "source": [
    "0.009/0.108"
   ]
  },
  {
   "cell_type": "code",
   "execution_count": 1,
   "id": "285dbb62",
   "metadata": {},
   "outputs": [
    {
     "data": {
      "text/plain": [
       "0.9166666666666667"
      ]
     },
     "execution_count": 1,
     "metadata": {},
     "output_type": "execute_result"
    }
   ],
   "source": [
    "0.099/0.108"
   ]
  },
  {
   "cell_type": "markdown",
   "id": "de772848",
   "metadata": {},
   "source": [
    "## 모델평가 \n",
    "1. 민감도 (sensitivitiy) => 양성중 양성 맞춘거(True Positive) == 재현율(Recall)\\\n",
    "2.특이도(specificity) => 음성중 음성 맞춘거(True Negative)\\\n",
    "\n",
    "3. 정밀도 (precision)=> 양성이라고 한것 중에서 양성 맞춘것 \\\n",
    "\n",
    "4. 정확도(accuracy)=> 전체에서 맞춘것 \\\n"
   ]
  },
  {
   "cell_type": "code",
   "execution_count": 5,
   "id": "c2323b90",
   "metadata": {},
   "outputs": [],
   "source": [
    "# 암일 확률 0.1\n",
    "# 암 아닐 확률 0.9\n",
    "\n",
    "# 암일때 양성 뜰 확률 0.9\n",
    "# 암 일때 음성 뜰 확률 0.1\n",
    "\n",
    "# 암 아닐때 양성 뜰 확률 0.5\n",
    "# 암 아닐때 음성 뜰 확률 0.5"
   ]
  },
  {
   "cell_type": "code",
   "execution_count": 6,
   "id": "2c60b960",
   "metadata": {},
   "outputs": [
    {
     "data": {
      "text/plain": [
       "(0.09000000000000001, 0.010000000000000002, 0.45, 0.45)"
      ]
     },
     "execution_count": 6,
     "metadata": {},
     "output_type": "execute_result"
    }
   ],
   "source": [
    "# 음성이면서 암일 확률 \n",
    "\n",
    "(0.1*0.9,0.1*0.1,0.9*0.5,0.9*0.5)"
   ]
  },
  {
   "cell_type": "code",
   "execution_count": 7,
   "id": "a717a864",
   "metadata": {},
   "outputs": [
    {
     "data": {
      "text/plain": [
       "0.021739130434782608"
      ]
     },
     "execution_count": 7,
     "metadata": {},
     "output_type": "execute_result"
    }
   ],
   "source": [
    "0.01/0.46"
   ]
  },
  {
   "cell_type": "code",
   "execution_count": 8,
   "id": "9b80c28d",
   "metadata": {},
   "outputs": [
    {
     "data": {
      "text/plain": [
       "0.9782608695652174"
      ]
     },
     "execution_count": 8,
     "metadata": {},
     "output_type": "execute_result"
    }
   ],
   "source": [
    "0.45/0.46"
   ]
  },
  {
   "cell_type": "code",
   "execution_count": null,
   "id": "0b1eb84c",
   "metadata": {},
   "outputs": [],
   "source": [
    "# 양성일 확률 0.54"
   ]
  },
  {
   "cell_type": "code",
   "execution_count": 9,
   "id": "7a29066f",
   "metadata": {},
   "outputs": [
    {
     "data": {
      "text/plain": [
       "0.16666666666666666"
      ]
     },
     "execution_count": 9,
     "metadata": {},
     "output_type": "execute_result"
    }
   ],
   "source": [
    "# 조건부확률, 양성일때, 양성이면서 암일 확률 \n",
    "\n",
    "0.09/0.54"
   ]
  },
  {
   "cell_type": "code",
   "execution_count": 10,
   "id": "af2e8323",
   "metadata": {},
   "outputs": [
    {
     "data": {
      "text/plain": [
       "0.8333333333333333"
      ]
     },
     "execution_count": 10,
     "metadata": {},
     "output_type": "execute_result"
    }
   ],
   "source": [
    "0.45/0.54"
   ]
  }
 ],
 "metadata": {
  "kernelspec": {
   "display_name": "Python 3",
   "language": "python",
   "name": "python3"
  },
  "language_info": {
   "codemirror_mode": {
    "name": "ipython",
    "version": 3
   },
   "file_extension": ".py",
   "mimetype": "text/x-python",
   "name": "python",
   "nbconvert_exporter": "python",
   "pygments_lexer": "ipython3",
   "version": "3.8.8"
  }
 },
 "nbformat": 4,
 "nbformat_minor": 5
}

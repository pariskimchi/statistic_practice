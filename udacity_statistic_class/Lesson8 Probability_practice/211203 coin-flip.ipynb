{
 "cells": [
  {
   "cell_type": "code",
   "execution_count": 1,
   "id": "380d9816",
   "metadata": {},
   "outputs": [],
   "source": [
    "import numpy as np\n",
    "import pandas as pd \n",
    "import matplotlib.pyplot as plt"
   ]
  },
  {
   "cell_type": "code",
   "execution_count": 96,
   "id": "a6293d0c",
   "metadata": {
    "scrolled": true
   },
   "outputs": [
    {
     "data": {
      "text/plain": [
       "array([0, 0, 1, ..., 0, 1, 1])"
      ]
     },
     "execution_count": 96,
     "metadata": {},
     "output_type": "execute_result"
    }
   ],
   "source": [
    "np.random.randint(2,size=10000)"
   ]
  },
  {
   "cell_type": "code",
   "execution_count": 188,
   "id": "35bce292",
   "metadata": {},
   "outputs": [
    {
     "data": {
      "text/plain": [
       "0.2007"
      ]
     },
     "execution_count": 188,
     "metadata": {},
     "output_type": "execute_result"
    }
   ],
   "source": [
    "np.random.choice([0,1],size=10000,p=[0.8,0.2]).mean()"
   ]
  },
  {
   "cell_type": "code",
   "execution_count": 189,
   "id": "3727d305",
   "metadata": {},
   "outputs": [],
   "source": [
    "%matplotlib inline"
   ]
  },
  {
   "cell_type": "code",
   "execution_count": 201,
   "id": "dc098127",
   "metadata": {},
   "outputs": [
    {
     "data": {
      "text/plain": [
       "1"
      ]
     },
     "execution_count": 201,
     "metadata": {},
     "output_type": "execute_result"
    }
   ],
   "source": [
    "# outcome of one coin flip\n",
    "np.random.randint(2)"
   ]
  },
  {
   "cell_type": "code",
   "execution_count": 209,
   "id": "daffa23e",
   "metadata": {},
   "outputs": [
    {
     "data": {
      "text/plain": [
       "array([0, 0, 0, ..., 0, 1, 0])"
      ]
     },
     "execution_count": 209,
     "metadata": {},
     "output_type": "execute_result"
    }
   ],
   "source": [
    "# outcomes of ten throusne coin flips \n",
    "np.random.randint(2,size=10000)"
   ]
  },
  {
   "cell_type": "code",
   "execution_count": 214,
   "id": "2b975460",
   "metadata": {},
   "outputs": [
    {
     "data": {
      "text/plain": [
       "0.4975"
      ]
     },
     "execution_count": 214,
     "metadata": {},
     "output_type": "execute_result"
    }
   ],
   "source": [
    "# mean outcome of ten thousand coin flips \n",
    "np.random.randint(2, size=10000).mean()"
   ]
  },
  {
   "cell_type": "code",
   "execution_count": 219,
   "id": "da81ed8f",
   "metadata": {},
   "outputs": [
    {
     "data": {
      "text/plain": [
       "1"
      ]
     },
     "execution_count": 219,
     "metadata": {},
     "output_type": "execute_result"
    }
   ],
   "source": [
    "# outcome of one coin flip \n",
    "np.random.choice([0,1])"
   ]
  },
  {
   "cell_type": "code",
   "execution_count": 224,
   "id": "d0dd3da1",
   "metadata": {},
   "outputs": [
    {
     "data": {
      "text/plain": [
       "0.5019"
      ]
     },
     "execution_count": 224,
     "metadata": {},
     "output_type": "execute_result"
    }
   ],
   "source": [
    "# mean outcome of then thousand coin flips \n",
    "np.random.choice([0,1],size=10000).mean()"
   ]
  },
  {
   "cell_type": "markdown",
   "id": "ee8d60ad",
   "metadata": {},
   "source": [
    "## 1. 2개 코인 던지기 두개 앞면 나와야됨"
   ]
  },
  {
   "cell_type": "code",
   "execution_count": 225,
   "id": "170bb025",
   "metadata": {},
   "outputs": [],
   "source": [
    "# 두개 동전을 백만번 던진다고?\n",
    "tests = np.random.randint(2, size=(int(1e6),2))"
   ]
  },
  {
   "cell_type": "code",
   "execution_count": 226,
   "id": "70e3bb49",
   "metadata": {
    "scrolled": true
   },
   "outputs": [
    {
     "data": {
      "text/plain": [
       "array([[1, 1],\n",
       "       [1, 0],\n",
       "       [1, 0],\n",
       "       ...,\n",
       "       [1, 1],\n",
       "       [1, 0],\n",
       "       [0, 1]])"
      ]
     },
     "execution_count": 226,
     "metadata": {},
     "output_type": "execute_result"
    }
   ],
   "source": [
    "tests"
   ]
  },
  {
   "cell_type": "code",
   "execution_count": 227,
   "id": "b31044b7",
   "metadata": {},
   "outputs": [],
   "source": [
    "# 백만번 던진 모든 테스트의 합계 \n",
    "test_sums = tests.sum(axis=1)"
   ]
  },
  {
   "cell_type": "code",
   "execution_count": 231,
   "id": "50d74a77",
   "metadata": {},
   "outputs": [
    {
     "data": {
      "text/plain": [
       "array([2, 1, 1, ..., 2, 1, 1])"
      ]
     },
     "execution_count": 231,
     "metadata": {},
     "output_type": "execute_result"
    }
   ],
   "source": [
    "test_sums"
   ]
  },
  {
   "cell_type": "code",
   "execution_count": 232,
   "id": "865e3b23",
   "metadata": {},
   "outputs": [
    {
     "data": {
      "text/plain": [
       "0.249842"
      ]
     },
     "execution_count": 232,
     "metadata": {},
     "output_type": "execute_result"
    }
   ],
   "source": [
    "# 정확히 두번 앞면이 나온거 확률 구하기 \n",
    "(test_sums == 0).mean()"
   ]
  },
  {
   "cell_type": "markdown",
   "id": "c79dc855",
   "metadata": {},
   "source": [
    "### 3개 코인 던지고 정확히 한번만 앞면 나오는것"
   ]
  },
  {
   "cell_type": "code",
   "execution_count": 238,
   "id": "993aec04",
   "metadata": {},
   "outputs": [],
   "source": [
    "# 3개의 코인 백만번 던지기 \n",
    "tests = np.random.randint(2, size=(int(1e6),3))"
   ]
  },
  {
   "cell_type": "code",
   "execution_count": 239,
   "id": "735523ac",
   "metadata": {},
   "outputs": [
    {
     "data": {
      "text/plain": [
       "array([[1, 0, 1],\n",
       "       [0, 1, 1],\n",
       "       [0, 1, 1],\n",
       "       ...,\n",
       "       [0, 1, 0],\n",
       "       [0, 1, 1],\n",
       "       [1, 1, 0]])"
      ]
     },
     "execution_count": 239,
     "metadata": {},
     "output_type": "execute_result"
    }
   ],
   "source": [
    "tests"
   ]
  },
  {
   "cell_type": "code",
   "execution_count": 240,
   "id": "f694900b",
   "metadata": {},
   "outputs": [],
   "source": [
    "# 백만번 던진 모든 테스느 결과 \n",
    "test_sums = tests.sum(axis=1)"
   ]
  },
  {
   "cell_type": "code",
   "execution_count": 241,
   "id": "0cc80ad0",
   "metadata": {},
   "outputs": [
    {
     "data": {
      "text/plain": [
       "array([2, 2, 2, ..., 1, 2, 2])"
      ]
     },
     "execution_count": 241,
     "metadata": {},
     "output_type": "execute_result"
    }
   ],
   "source": [
    "test_sums"
   ]
  },
  {
   "cell_type": "code",
   "execution_count": 244,
   "id": "c40d6127",
   "metadata": {},
   "outputs": [
    {
     "data": {
      "text/plain": [
       "0.375576"
      ]
     },
     "execution_count": 244,
     "metadata": {},
     "output_type": "execute_result"
    }
   ],
   "source": [
    "# 정확히 한번 만 앞면 나온거 비율 잡아보기 \n",
    "(test_sums == 1).mean()"
   ]
  },
  {
   "cell_type": "markdown",
   "id": "ff7aca6b",
   "metadata": {},
   "source": [
    "### 3개의 앞면나올 확률 0.6인거 정확히 한번만 앞면 나올거 구해라"
   ]
  },
  {
   "cell_type": "code",
   "execution_count": 248,
   "id": "b335eb54",
   "metadata": {},
   "outputs": [],
   "source": [
    "tests = np.random.choice(2,size=(int(1e6),3),p=[0.6,0.4])"
   ]
  },
  {
   "cell_type": "code",
   "execution_count": 249,
   "id": "bea54eaf",
   "metadata": {},
   "outputs": [
    {
     "data": {
      "text/plain": [
       "array([[1, 0, 1],\n",
       "       [0, 0, 1],\n",
       "       [0, 0, 0],\n",
       "       ...,\n",
       "       [0, 0, 0],\n",
       "       [0, 0, 0],\n",
       "       [0, 0, 0]])"
      ]
     },
     "execution_count": 249,
     "metadata": {},
     "output_type": "execute_result"
    }
   ],
   "source": [
    "tests"
   ]
  },
  {
   "cell_type": "code",
   "execution_count": 250,
   "id": "dbf540b3",
   "metadata": {},
   "outputs": [],
   "source": [
    "# sums of all tests \n",
    "test_sums = tests.sum(axis=1)"
   ]
  },
  {
   "cell_type": "code",
   "execution_count": 252,
   "id": "b33ebb68",
   "metadata": {},
   "outputs": [
    {
     "data": {
      "text/plain": [
       "array([2, 1, 0, ..., 0, 0, 0])"
      ]
     },
     "execution_count": 252,
     "metadata": {},
     "output_type": "execute_result"
    }
   ],
   "source": [
    "test_sums"
   ]
  },
  {
   "cell_type": "code",
   "execution_count": 253,
   "id": "d7bc5414",
   "metadata": {},
   "outputs": [
    {
     "data": {
      "text/plain": [
       "0.431961"
      ]
     },
     "execution_count": 253,
     "metadata": {},
     "output_type": "execute_result"
    }
   ],
   "source": [
    "# 비율 \n",
    "(test_sums == 1).mean()"
   ]
  },
  {
   "cell_type": "code",
   "execution_count": 254,
   "id": "eab567d8",
   "metadata": {},
   "outputs": [],
   "source": [
    "test = np.random.randint(2, size=(int(1e6),2))"
   ]
  },
  {
   "cell_type": "code",
   "execution_count": 256,
   "id": "8b88773d",
   "metadata": {},
   "outputs": [],
   "source": [
    "test_sums = test.sum(axis=1)"
   ]
  },
  {
   "cell_type": "code",
   "execution_count": 257,
   "id": "9d7d9e24",
   "metadata": {},
   "outputs": [
    {
     "data": {
      "text/plain": [
       "0.250652"
      ]
     },
     "execution_count": 257,
     "metadata": {},
     "output_type": "execute_result"
    }
   ],
   "source": [
    "(test_sums==2).mean()"
   ]
  },
  {
   "cell_type": "code",
   "execution_count": 275,
   "id": "5e21f702",
   "metadata": {},
   "outputs": [],
   "source": [
    "#Three fair coin flips produce exactly one head\n",
    "test = np.random.randint(2, size=(int(1e6), 3))"
   ]
  },
  {
   "cell_type": "code",
   "execution_count": 276,
   "id": "1b07b31d",
   "metadata": {},
   "outputs": [
    {
     "data": {
      "text/plain": [
       "array([[0, 1, 1],\n",
       "       [1, 1, 1],\n",
       "       [1, 1, 0],\n",
       "       ...,\n",
       "       [0, 1, 0],\n",
       "       [0, 0, 0],\n",
       "       [0, 1, 0]])"
      ]
     },
     "execution_count": 276,
     "metadata": {},
     "output_type": "execute_result"
    }
   ],
   "source": [
    "test"
   ]
  },
  {
   "cell_type": "code",
   "execution_count": 277,
   "id": "0750ca4c",
   "metadata": {},
   "outputs": [
    {
     "data": {
      "text/plain": [
       "0.375578"
      ]
     },
     "execution_count": 277,
     "metadata": {},
     "output_type": "execute_result"
    }
   ],
   "source": [
    "test_sum = test.sum(axis=1)\n",
    "(test_sum == 2).mean()"
   ]
  },
  {
   "cell_type": "code",
   "execution_count": 270,
   "id": "38e98099",
   "metadata": {},
   "outputs": [],
   "source": [
    "# Three biased coin flips with P(H) = 0.6 produce exactly one head\n",
    "\n",
    "test = np.random.choice(2, size=(int(1e6),3),p=[0.6,0.4])"
   ]
  },
  {
   "cell_type": "code",
   "execution_count": 271,
   "id": "11310b0a",
   "metadata": {},
   "outputs": [],
   "source": [
    "test_sums = test.sum(axis=1)"
   ]
  },
  {
   "cell_type": "code",
   "execution_count": 272,
   "id": "84a1b3b8",
   "metadata": {},
   "outputs": [
    {
     "data": {
      "text/plain": [
       "array([0, 0, 2, ..., 1, 2, 1])"
      ]
     },
     "execution_count": 272,
     "metadata": {},
     "output_type": "execute_result"
    }
   ],
   "source": [
    "test_sums"
   ]
  },
  {
   "cell_type": "code",
   "execution_count": 274,
   "id": "6b93bab9",
   "metadata": {},
   "outputs": [
    {
     "data": {
      "text/plain": [
       "0.287435"
      ]
     },
     "execution_count": 274,
     "metadata": {},
     "output_type": "execute_result"
    }
   ],
   "source": [
    "(test_sums==2).mean()"
   ]
  }
 ],
 "metadata": {
  "kernelspec": {
   "display_name": "Python 3",
   "language": "python",
   "name": "python3"
  },
  "language_info": {
   "codemirror_mode": {
    "name": "ipython",
    "version": 3
   },
   "file_extension": ".py",
   "mimetype": "text/x-python",
   "name": "python",
   "nbconvert_exporter": "python",
   "pygments_lexer": "ipython3",
   "version": "3.8.8"
  }
 },
 "nbformat": 4,
 "nbformat_minor": 5
}

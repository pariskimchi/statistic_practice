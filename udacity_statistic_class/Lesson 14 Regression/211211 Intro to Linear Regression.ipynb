{
 "cells": [
  {
   "cell_type": "markdown",
   "id": "aefc7d37",
   "metadata": {},
   "source": [
    "Response Variable (y)\n",
    "    => The variable you are interested in predicting \n",
    "    => 예측하고 싶은 함수 \n",
    "    \n",
    "Explanatory Variable(x) \n",
    "    => used to predict the response \n",
    "    정답"
   ]
  },
  {
   "cell_type": "markdown",
   "id": "bd2feb29",
   "metadata": {},
   "source": [
    "Correlation Coefficient \n",
    "    => The strength and direction of a linear relationship"
   ]
  },
  {
   "cell_type": "code",
   "execution_count": null,
   "id": "54b89f9d",
   "metadata": {},
   "outputs": [],
   "source": []
  },
  {
   "cell_type": "markdown",
   "id": "dff3bebd",
   "metadata": {},
   "source": [
    "1. Intercept\\ \n",
    "    => The expected value of this response \n",
    "    when explanatory variable is 0\n",
    "2. Slope\\ \n",
    "    => the expected change in the response for each 1 unit \n",
    "    increase in the explanatory variable"
   ]
  },
  {
   "cell_type": "code",
   "execution_count": null,
   "id": "04d4c435",
   "metadata": {},
   "outputs": [],
   "source": []
  },
  {
   "cell_type": "code",
   "execution_count": 1,
   "id": "a0dcab93",
   "metadata": {},
   "outputs": [
    {
     "data": {
      "text/plain": [
       "0.13333333333333333"
      ]
     },
     "execution_count": 1,
     "metadata": {},
     "output_type": "execute_result"
    }
   ],
   "source": [
    "4/30"
   ]
  },
  {
   "cell_type": "markdown",
   "id": "929f8cd9",
   "metadata": {},
   "source": [
    "## Predict the line\n",
    "    => minimize the sum of the square verticcal distance from the line to points"
   ]
  },
  {
   "cell_type": "markdown",
   "id": "caa3d9fd",
   "metadata": {},
   "source": [
    "## R-squared ?\n",
    "    => The amount of variability in the reponse(y) explained by your model"
   ]
  },
  {
   "cell_type": "code",
   "execution_count": null,
   "id": "d5260fe5",
   "metadata": {},
   "outputs": [],
   "source": []
  },
  {
   "cell_type": "code",
   "execution_count": null,
   "id": "e5a9c5ac",
   "metadata": {},
   "outputs": [],
   "source": []
  }
 ],
 "metadata": {
  "kernelspec": {
   "display_name": "Python 3",
   "language": "python",
   "name": "python3"
  },
  "language_info": {
   "codemirror_mode": {
    "name": "ipython",
    "version": 3
   },
   "file_extension": ".py",
   "mimetype": "text/x-python",
   "name": "python",
   "nbconvert_exporter": "python",
   "pygments_lexer": "ipython3",
   "version": "3.8.8"
  }
 },
 "nbformat": 4,
 "nbformat_minor": 5
}

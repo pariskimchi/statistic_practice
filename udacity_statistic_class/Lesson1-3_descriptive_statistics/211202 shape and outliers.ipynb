{
 "cells": [
  {
   "cell_type": "markdown",
   "id": "bf43f2da",
   "metadata": {},
   "source": [
    "### 분포도 모양도 중요\n",
    "=> 왼쪽으로 내려가는지(left skewed), 오른쪽으로 내려가는지도 (right-skewed)\n",
    "\n",
    "==> 아니면 그냥 중앙으로 균형적인지도(symmetric)"
   ]
  },
  {
   "cell_type": "code",
   "execution_count": null,
   "id": "d97bd554",
   "metadata": {},
   "outputs": [],
   "source": []
  },
  {
   "cell_type": "markdown",
   "id": "3ec67677",
   "metadata": {},
   "source": [
    "### 아웃라이어란??"
   ]
  },
  {
   "cell_type": "code",
   "execution_count": null,
   "id": "504f1f4d",
   "metadata": {},
   "outputs": [],
   "source": []
  },
  {
   "cell_type": "markdown",
   "id": "df1cf52c",
   "metadata": {},
   "source": [
    "## 과정\n",
    "1. 시각화해라 \n",
    "2. 아웃라이어에 대한 결정해라 \n",
    "3. 아웃라이어가 없다면 보편적인 분포이므로 분산, 표준편차 이용해봐라"
   ]
  },
  {
   "cell_type": "code",
   "execution_count": null,
   "id": "c63878d7",
   "metadata": {},
   "outputs": [],
   "source": []
  },
  {
   "cell_type": "markdown",
   "id": "c65ae0ec",
   "metadata": {},
   "source": [
    "## Descriptive vs Inferential Statistics"
   ]
  },
  {
   "cell_type": "markdown",
   "id": "593379b8",
   "metadata": {},
   "source": [
    "### Descriptive Statistics\n",
    "=> describing our collected data"
   ]
  },
  {
   "cell_type": "markdown",
   "id": "7e3d9a48",
   "metadata": {},
   "source": [
    "### Inferential Statistics\n",
    "=> using our collected data to draw \\\n",
    "=> conclustions to a larger population"
   ]
  },
  {
   "cell_type": "markdown",
   "id": "c6d5b073",
   "metadata": {},
   "source": [
    "## 하면서 주의해야할것 \n",
    "1. population - 흥미 그룹\n",
    "2. parameter - 흥미 그룹에 대한 주요 numeric summary \n",
    "3. sample 표본\n",
    "4. Statistic - 표본에 대한 주요 numeric summary"
   ]
  },
  {
   "cell_type": "code",
   "execution_count": null,
   "id": "0b6736e9",
   "metadata": {},
   "outputs": [],
   "source": []
  },
  {
   "cell_type": "code",
   "execution_count": null,
   "id": "2b1873c9",
   "metadata": {},
   "outputs": [],
   "source": []
  },
  {
   "cell_type": "code",
   "execution_count": null,
   "id": "94491c37",
   "metadata": {},
   "outputs": [],
   "source": []
  },
  {
   "cell_type": "code",
   "execution_count": null,
   "id": "ccbfb54f",
   "metadata": {},
   "outputs": [],
   "source": []
  },
  {
   "cell_type": "code",
   "execution_count": null,
   "id": "ff6db84c",
   "metadata": {},
   "outputs": [],
   "source": []
  }
 ],
 "metadata": {
  "kernelspec": {
   "display_name": "Python 3",
   "language": "python",
   "name": "python3"
  },
  "language_info": {
   "codemirror_mode": {
    "name": "ipython",
    "version": 3
   },
   "file_extension": ".py",
   "mimetype": "text/x-python",
   "name": "python",
   "nbconvert_exporter": "python",
   "pygments_lexer": "ipython3",
   "version": "3.8.8"
  }
 },
 "nbformat": 4,
 "nbformat_minor": 5
}

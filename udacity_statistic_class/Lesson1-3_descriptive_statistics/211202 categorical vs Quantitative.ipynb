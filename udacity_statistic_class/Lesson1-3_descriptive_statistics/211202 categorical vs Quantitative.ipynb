{
 "cells": [
  {
   "cell_type": "markdown",
   "id": "8e7e18b2",
   "metadata": {},
   "source": [
    "## Data Types"
   ]
  },
  {
   "cell_type": "markdown",
   "id": "838f4f17",
   "metadata": {},
   "source": [
    "### Quantitative: \n",
    "Continuous: Height, Age, income (연속성이 있는 숫자 같은거) \\\n",
    "Discrete: 책 페이지, 나무 숫자, 개 마리수 같은거\n",
    "\n",
    "### Categorical:\n",
    "Ordinal: 조사 점수같은거(1,2,3,4,5 중 선택) 하지만 우위가 있는건가?\\\n",
    "Nominal: 성별(M or F), 아침식사 종류(시리얼 or 커피 )\n"
   ]
  },
  {
   "cell_type": "markdown",
   "id": "f31d1951",
   "metadata": {},
   "source": [
    "### 통계에선 얼마나 데이터가 분포되어 있는지 중요하다"
   ]
  },
  {
   "cell_type": "markdown",
   "id": "86df00e8",
   "metadata": {},
   "source": [
    "### 숫자데이터 조사할때 해야할것 \n",
    "1. Measure of Center(mean(평균), median(중앙값),mode(최빈값))\n",
    "2 .Measure of Spread(분포 조사)\n",
    "3. Shape of Data \n",
    "4. Outlier(하나만 이상한거( "
   ]
  },
  {
   "cell_type": "code",
   "execution_count": 1,
   "id": "7be38650",
   "metadata": {},
   "outputs": [],
   "source": [
    "a = [5,8,15,7,10,22,3,1,15]\n"
   ]
  },
  {
   "cell_type": "code",
   "execution_count": 2,
   "id": "d71218e4",
   "metadata": {},
   "outputs": [],
   "source": [
    "import numpy as np"
   ]
  },
  {
   "cell_type": "code",
   "execution_count": 3,
   "id": "89d0f56e",
   "metadata": {},
   "outputs": [
    {
     "data": {
      "text/plain": [
       "9.555555555555555"
      ]
     },
     "execution_count": 3,
     "metadata": {},
     "output_type": "execute_result"
    }
   ],
   "source": [
    "np.mean(a)"
   ]
  },
  {
   "cell_type": "code",
   "execution_count": 5,
   "id": "bf3f0ed7",
   "metadata": {},
   "outputs": [
    {
     "data": {
      "text/plain": [
       "8.0"
      ]
     },
     "execution_count": 5,
     "metadata": {},
     "output_type": "execute_result"
    }
   ],
   "source": [
    "np.median(a)"
   ]
  },
  {
   "cell_type": "code",
   "execution_count": 13,
   "id": "e8c3f939",
   "metadata": {},
   "outputs": [],
   "source": [
    "b = [5, 8, 15, 7, 10, 22, 3, 1, 15, 2]"
   ]
  },
  {
   "cell_type": "code",
   "execution_count": 7,
   "id": "f7781c2a",
   "metadata": {},
   "outputs": [
    {
     "data": {
      "text/plain": [
       "8.8"
      ]
     },
     "execution_count": 7,
     "metadata": {},
     "output_type": "execute_result"
    }
   ],
   "source": [
    "np.mean(b)"
   ]
  },
  {
   "cell_type": "code",
   "execution_count": 16,
   "id": "89829b7b",
   "metadata": {},
   "outputs": [
    {
     "data": {
      "text/plain": [
       "[1, 2, 3, 5, 7, 8, 10, 15, 15, 22]"
      ]
     },
     "execution_count": 16,
     "metadata": {},
     "output_type": "execute_result"
    }
   ],
   "source": [
    "b"
   ]
  },
  {
   "cell_type": "code",
   "execution_count": 17,
   "id": "51212a12",
   "metadata": {},
   "outputs": [],
   "source": [
    "c = [1,1,2,3,8]"
   ]
  },
  {
   "cell_type": "code",
   "execution_count": 18,
   "id": "2ed2bc20",
   "metadata": {},
   "outputs": [
    {
     "data": {
      "text/plain": [
       "[1, 1, 2, 3, 8]"
      ]
     },
     "execution_count": 18,
     "metadata": {},
     "output_type": "execute_result"
    }
   ],
   "source": [
    "c"
   ]
  },
  {
   "cell_type": "code",
   "execution_count": 21,
   "id": "aa68fb6a",
   "metadata": {},
   "outputs": [
    {
     "data": {
      "text/plain": [
       "3.0"
      ]
     },
     "execution_count": 21,
     "metadata": {},
     "output_type": "execute_result"
    }
   ],
   "source": [
    "np.mean(c)"
   ]
  },
  {
   "cell_type": "code",
   "execution_count": 22,
   "id": "e376752f",
   "metadata": {},
   "outputs": [
    {
     "data": {
      "text/plain": [
       "2.0"
      ]
     },
     "execution_count": 22,
     "metadata": {},
     "output_type": "execute_result"
    }
   ],
   "source": [
    "np.median(c)"
   ]
  },
  {
   "cell_type": "code",
   "execution_count": 24,
   "id": "5747bf99",
   "metadata": {},
   "outputs": [],
   "source": [
    "from scipy.stats import mode"
   ]
  },
  {
   "cell_type": "code",
   "execution_count": 31,
   "id": "9f4898e2",
   "metadata": {
    "scrolled": true
   },
   "outputs": [
    {
     "data": {
      "text/plain": [
       "1"
      ]
     },
     "execution_count": 31,
     "metadata": {},
     "output_type": "execute_result"
    }
   ],
   "source": [
    "mode(c)[0][0]"
   ]
  },
  {
   "cell_type": "code",
   "execution_count": 32,
   "id": "a1ab58a4",
   "metadata": {},
   "outputs": [],
   "source": [
    "d = [8, 12, 32, 10, 3, 4, 4, 4, 4, 5, 12, 20]"
   ]
  },
  {
   "cell_type": "code",
   "execution_count": 33,
   "id": "52f7b34c",
   "metadata": {},
   "outputs": [
    {
     "data": {
      "text/plain": [
       "9.833333333333334"
      ]
     },
     "execution_count": 33,
     "metadata": {},
     "output_type": "execute_result"
    }
   ],
   "source": [
    "np.mean(d)"
   ]
  },
  {
   "cell_type": "code",
   "execution_count": 34,
   "id": "e598a073",
   "metadata": {},
   "outputs": [
    {
     "data": {
      "text/plain": [
       "6.5"
      ]
     },
     "execution_count": 34,
     "metadata": {},
     "output_type": "execute_result"
    }
   ],
   "source": [
    "np.median(d)"
   ]
  },
  {
   "cell_type": "code",
   "execution_count": 35,
   "id": "38ae11ff",
   "metadata": {},
   "outputs": [
    {
     "data": {
      "text/plain": [
       "4"
      ]
     },
     "execution_count": 35,
     "metadata": {},
     "output_type": "execute_result"
    }
   ],
   "source": [
    "mode(d)[0][0]"
   ]
  },
  {
   "cell_type": "code",
   "execution_count": 36,
   "id": "fa75d580",
   "metadata": {},
   "outputs": [],
   "source": [
    "e = [5, 8, 15, 7, 10, 22, 3, 1, 15, 10]"
   ]
  },
  {
   "cell_type": "code",
   "execution_count": 37,
   "id": "e1a0c8ce",
   "metadata": {},
   "outputs": [
    {
     "data": {
      "text/plain": [
       "9.6"
      ]
     },
     "execution_count": 37,
     "metadata": {},
     "output_type": "execute_result"
    }
   ],
   "source": [
    "np.mean(e)"
   ]
  },
  {
   "cell_type": "code",
   "execution_count": 38,
   "id": "c85b45b1",
   "metadata": {},
   "outputs": [
    {
     "data": {
      "text/plain": [
       "9.0"
      ]
     },
     "execution_count": 38,
     "metadata": {},
     "output_type": "execute_result"
    }
   ],
   "source": [
    "np.median(e)"
   ]
  },
  {
   "cell_type": "code",
   "execution_count": 39,
   "id": "761f42f1",
   "metadata": {},
   "outputs": [
    {
     "data": {
      "text/plain": [
       "10"
      ]
     },
     "execution_count": 39,
     "metadata": {},
     "output_type": "execute_result"
    }
   ],
   "source": [
    "mode(e)[0][0]"
   ]
  },
  {
   "cell_type": "code",
   "execution_count": null,
   "id": "5e44417c",
   "metadata": {},
   "outputs": [],
   "source": []
  }
 ],
 "metadata": {
  "kernelspec": {
   "display_name": "Python 3",
   "language": "python",
   "name": "python3"
  },
  "language_info": {
   "codemirror_mode": {
    "name": "ipython",
    "version": 3
   },
   "file_extension": ".py",
   "mimetype": "text/x-python",
   "name": "python",
   "nbconvert_exporter": "python",
   "pygments_lexer": "ipython3",
   "version": "3.8.8"
  }
 },
 "nbformat": 4,
 "nbformat_minor": 5
}

{
 "cells": [
  {
   "cell_type": "markdown",
   "id": "213556c7",
   "metadata": {},
   "source": [
    "### 표준편차와 분산"
   ]
  },
  {
   "cell_type": "markdown",
   "id": "43e6ab83",
   "metadata": {},
   "source": [
    "## 표준편차란 \n",
    "=> 평균적으로 평균에 얼마나 떨어져 있는지"
   ]
  },
  {
   "cell_type": "markdown",
   "id": "553528c6",
   "metadata": {},
   "source": [
    "### 분산부터 구한다"
   ]
  },
  {
   "cell_type": "code",
   "execution_count": 1,
   "id": "e527586d",
   "metadata": {},
   "outputs": [],
   "source": [
    "import numpy as np\n",
    "import pandas as pd"
   ]
  },
  {
   "cell_type": "code",
   "execution_count": null,
   "id": "af210668",
   "metadata": {},
   "outputs": [],
   "source": []
  },
  {
   "cell_type": "code",
   "execution_count": 2,
   "id": "6fba9a82",
   "metadata": {},
   "outputs": [],
   "source": [
    "a = [1, 5, 10, 3, 8, 12, 4]"
   ]
  },
  {
   "cell_type": "code",
   "execution_count": null,
   "id": "e90ffe0f",
   "metadata": {},
   "outputs": [],
   "source": []
  },
  {
   "cell_type": "code",
   "execution_count": 3,
   "id": "593c126a",
   "metadata": {},
   "outputs": [
    {
     "data": {
      "text/plain": [
       "6.142857142857143"
      ]
     },
     "execution_count": 3,
     "metadata": {},
     "output_type": "execute_result"
    }
   ],
   "source": [
    "np.mean(a)"
   ]
  },
  {
   "cell_type": "code",
   "execution_count": 4,
   "id": "f893ca91",
   "metadata": {},
   "outputs": [
    {
     "data": {
      "text/plain": [
       "7"
      ]
     },
     "execution_count": 4,
     "metadata": {},
     "output_type": "execute_result"
    }
   ],
   "source": [
    "len(a)"
   ]
  },
  {
   "cell_type": "code",
   "execution_count": 5,
   "id": "e5ea8d33",
   "metadata": {},
   "outputs": [
    {
     "data": {
      "text/plain": [
       "43"
      ]
     },
     "execution_count": 5,
     "metadata": {},
     "output_type": "execute_result"
    }
   ],
   "source": [
    "np.sum(a)"
   ]
  },
  {
   "cell_type": "code",
   "execution_count": 9,
   "id": "9ff5a82c",
   "metadata": {},
   "outputs": [],
   "source": [
    "def get_variance(num_list):\n",
    "    \n",
    "    num_sum = np.sum(num_list)\n",
    "    num_mean = np.mean(num_list)\n",
    "    nums = len(num_list)\n",
    "    \n",
    "    num_list2 = []\n",
    "    \n",
    "    for i in num_list:\n",
    "        \n",
    "        num_list2.append((i-num_mean)**2)\n",
    "    \n",
    "    \n",
    "    \n",
    "    variance = np.round(np.mean(num_list2),2)\n",
    "    \n",
    "    return variance\n",
    "    "
   ]
  },
  {
   "cell_type": "code",
   "execution_count": 10,
   "id": "826d0529",
   "metadata": {},
   "outputs": [
    {
     "data": {
      "text/plain": [
       "13.55"
      ]
     },
     "execution_count": 10,
     "metadata": {},
     "output_type": "execute_result"
    }
   ],
   "source": [
    "get_variance(a)"
   ]
  },
  {
   "cell_type": "code",
   "execution_count": 11,
   "id": "57192847",
   "metadata": {
    "scrolled": true
   },
   "outputs": [
    {
     "data": {
      "text/plain": [
       "3.681032463861192"
      ]
     },
     "execution_count": 11,
     "metadata": {},
     "output_type": "execute_result"
    }
   ],
   "source": [
    "get_variance(a)**0.5"
   ]
  },
  {
   "cell_type": "markdown",
   "id": "22d78ea1",
   "metadata": {},
   "source": [
    "## 분포 다루는 다른방법은???"
   ]
  },
  {
   "cell_type": "code",
   "execution_count": 12,
   "id": "e87e86d3",
   "metadata": {},
   "outputs": [
    {
     "data": {
      "text/plain": [
       "3.681032463861192"
      ]
     },
     "execution_count": 12,
     "metadata": {},
     "output_type": "execute_result"
    }
   ],
   "source": [
    "np.sqrt(get_variance(a))"
   ]
  },
  {
   "cell_type": "markdown",
   "id": "cf2d0c6a",
   "metadata": {},
   "source": [
    "### 표준편차는 데이터 비교시에 굉장히 중요하다"
   ]
  },
  {
   "cell_type": "markdown",
   "id": "d8a727ef",
   "metadata": {},
   "source": [
    "## 표준편차가 높으면 데이터 편차가 심해서 리스크가 높다고 할수 있다"
   ]
  },
  {
   "cell_type": "code",
   "execution_count": null,
   "id": "a0151fc1",
   "metadata": {},
   "outputs": [],
   "source": []
  },
  {
   "cell_type": "code",
   "execution_count": 13,
   "id": "e4d4e139",
   "metadata": {},
   "outputs": [],
   "source": [
    "d1 = [5,5,5,5,5,5]\n",
    "d2 = [12,-2,10,0,7,3]"
   ]
  },
  {
   "cell_type": "code",
   "execution_count": 14,
   "id": "ccbfca71",
   "metadata": {},
   "outputs": [
    {
     "data": {
      "text/plain": [
       "5.0"
      ]
     },
     "execution_count": 14,
     "metadata": {},
     "output_type": "execute_result"
    }
   ],
   "source": [
    "np.mean(d1)"
   ]
  },
  {
   "cell_type": "code",
   "execution_count": 15,
   "id": "737f4827",
   "metadata": {},
   "outputs": [
    {
     "data": {
      "text/plain": [
       "5.0"
      ]
     },
     "execution_count": 15,
     "metadata": {},
     "output_type": "execute_result"
    }
   ],
   "source": [
    "np.mean(d2)"
   ]
  },
  {
   "cell_type": "code",
   "execution_count": 17,
   "id": "c111ae97",
   "metadata": {},
   "outputs": [
    {
     "data": {
      "text/plain": [
       "0.0"
      ]
     },
     "execution_count": 17,
     "metadata": {},
     "output_type": "execute_result"
    }
   ],
   "source": [
    "get_variance(d1)"
   ]
  },
  {
   "cell_type": "code",
   "execution_count": 16,
   "id": "134a47d2",
   "metadata": {},
   "outputs": [
    {
     "data": {
      "text/plain": [
       "5.0990195135927845"
      ]
     },
     "execution_count": 16,
     "metadata": {},
     "output_type": "execute_result"
    }
   ],
   "source": [
    "np.sqrt(get_variance(d2))"
   ]
  },
  {
   "cell_type": "markdown",
   "id": "710b59ef",
   "metadata": {},
   "source": [
    "## Quiz"
   ]
  },
  {
   "cell_type": "code",
   "execution_count": 26,
   "id": "47cfec74",
   "metadata": {},
   "outputs": [],
   "source": [
    "c = [15, 4, 3, 8, 15, 22, 7, 9, 2, 3, 3, 12, 6]"
   ]
  },
  {
   "cell_type": "code",
   "execution_count": null,
   "id": "f557e620",
   "metadata": {},
   "outputs": [],
   "source": []
  },
  {
   "cell_type": "code",
   "execution_count": 19,
   "id": "6f12182c",
   "metadata": {},
   "outputs": [
    {
     "data": {
      "text/plain": [
       "13"
      ]
     },
     "execution_count": 19,
     "metadata": {},
     "output_type": "execute_result"
    }
   ],
   "source": [
    "len(c)"
   ]
  },
  {
   "cell_type": "code",
   "execution_count": 20,
   "id": "eeef644f",
   "metadata": {},
   "outputs": [
    {
     "data": {
      "text/plain": [
       "7.0"
      ]
     },
     "execution_count": 20,
     "metadata": {},
     "output_type": "execute_result"
    }
   ],
   "source": [
    "np.median(c)"
   ]
  },
  {
   "cell_type": "code",
   "execution_count": 32,
   "id": "e387a510",
   "metadata": {},
   "outputs": [],
   "source": [
    "c = pd.Series(c)"
   ]
  },
  {
   "cell_type": "code",
   "execution_count": 33,
   "id": "2aa043f1",
   "metadata": {},
   "outputs": [
    {
     "data": {
      "text/plain": [
       "3.0"
      ]
     },
     "execution_count": 33,
     "metadata": {},
     "output_type": "execute_result"
    }
   ],
   "source": [
    "c.quantile(.25)"
   ]
  },
  {
   "cell_type": "code",
   "execution_count": 34,
   "id": "dbf34ed7",
   "metadata": {},
   "outputs": [
    {
     "data": {
      "text/plain": [
       "12.0"
      ]
     },
     "execution_count": 34,
     "metadata": {},
     "output_type": "execute_result"
    }
   ],
   "source": [
    "c.quantile(.75)"
   ]
  },
  {
   "cell_type": "code",
   "execution_count": 35,
   "id": "cb6de77b",
   "metadata": {},
   "outputs": [
    {
     "data": {
      "text/plain": [
       "22.0"
      ]
     },
     "execution_count": 35,
     "metadata": {},
     "output_type": "execute_result"
    }
   ],
   "source": [
    "c.quantile(1)"
   ]
  },
  {
   "cell_type": "code",
   "execution_count": null,
   "id": "6c1e0132",
   "metadata": {},
   "outputs": [],
   "source": []
  },
  {
   "cell_type": "code",
   "execution_count": 24,
   "id": "5ee904da",
   "metadata": {},
   "outputs": [
    {
     "data": {
      "text/plain": [
       "8.384615384615385"
      ]
     },
     "execution_count": 24,
     "metadata": {},
     "output_type": "execute_result"
    }
   ],
   "source": [
    "np.mean(c)"
   ]
  },
  {
   "cell_type": "code",
   "execution_count": 27,
   "id": "ccf9652b",
   "metadata": {},
   "outputs": [],
   "source": [
    "c.sort()"
   ]
  },
  {
   "cell_type": "code",
   "execution_count": 28,
   "id": "0245e4ee",
   "metadata": {},
   "outputs": [
    {
     "data": {
      "text/plain": [
       "[2, 3, 3, 3, 4, 6, 7, 8, 9, 12, 15, 15, 22]"
      ]
     },
     "execution_count": 28,
     "metadata": {},
     "output_type": "execute_result"
    }
   ],
   "source": [
    "c"
   ]
  },
  {
   "cell_type": "code",
   "execution_count": 29,
   "id": "545b98a4",
   "metadata": {},
   "outputs": [
    {
     "data": {
      "text/plain": [
       "33.93"
      ]
     },
     "execution_count": 29,
     "metadata": {},
     "output_type": "execute_result"
    }
   ],
   "source": [
    "get_variance(c)"
   ]
  },
  {
   "cell_type": "code",
   "execution_count": 30,
   "id": "0ce3b9e4",
   "metadata": {},
   "outputs": [
    {
     "data": {
      "text/plain": [
       "5.82494635168428"
      ]
     },
     "execution_count": 30,
     "metadata": {},
     "output_type": "execute_result"
    }
   ],
   "source": [
    "np.sqrt(get_variance(c))"
   ]
  },
  {
   "cell_type": "code",
   "execution_count": null,
   "id": "f65b25d0",
   "metadata": {},
   "outputs": [],
   "source": []
  },
  {
   "cell_type": "code",
   "execution_count": null,
   "id": "f63179a2",
   "metadata": {},
   "outputs": [],
   "source": []
  },
  {
   "cell_type": "code",
   "execution_count": null,
   "id": "0f593cd8",
   "metadata": {},
   "outputs": [],
   "source": []
  },
  {
   "cell_type": "code",
   "execution_count": null,
   "id": "f853fc44",
   "metadata": {},
   "outputs": [],
   "source": []
  },
  {
   "cell_type": "code",
   "execution_count": null,
   "id": "5aa98b55",
   "metadata": {},
   "outputs": [],
   "source": []
  },
  {
   "cell_type": "code",
   "execution_count": null,
   "id": "27e5ab8e",
   "metadata": {},
   "outputs": [],
   "source": []
  },
  {
   "cell_type": "code",
   "execution_count": null,
   "id": "f2b815c4",
   "metadata": {},
   "outputs": [],
   "source": []
  },
  {
   "cell_type": "code",
   "execution_count": null,
   "id": "0b96f567",
   "metadata": {},
   "outputs": [],
   "source": []
  },
  {
   "cell_type": "code",
   "execution_count": null,
   "id": "b707b97e",
   "metadata": {},
   "outputs": [],
   "source": []
  },
  {
   "cell_type": "code",
   "execution_count": null,
   "id": "5e387e0c",
   "metadata": {},
   "outputs": [],
   "source": []
  },
  {
   "cell_type": "code",
   "execution_count": null,
   "id": "0204d5b8",
   "metadata": {},
   "outputs": [],
   "source": []
  },
  {
   "cell_type": "code",
   "execution_count": null,
   "id": "e09333de",
   "metadata": {},
   "outputs": [],
   "source": []
  }
 ],
 "metadata": {
  "kernelspec": {
   "display_name": "Python 3",
   "language": "python",
   "name": "python3"
  },
  "language_info": {
   "codemirror_mode": {
    "name": "ipython",
    "version": 3
   },
   "file_extension": ".py",
   "mimetype": "text/x-python",
   "name": "python",
   "nbconvert_exporter": "python",
   "pygments_lexer": "ipython3",
   "version": "3.8.8"
  }
 },
 "nbformat": 4,
 "nbformat_minor": 5
}

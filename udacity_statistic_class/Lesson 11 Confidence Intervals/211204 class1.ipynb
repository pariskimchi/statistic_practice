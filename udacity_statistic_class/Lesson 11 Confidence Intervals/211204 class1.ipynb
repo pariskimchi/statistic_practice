{
 "cells": [
  {
   "cell_type": "markdown",
   "id": "a369b97f",
   "metadata": {},
   "source": [
    "## from sampling distribution to confidence interval\n"
   ]
  },
  {
   "cell_type": "markdown",
   "id": "fd207498",
   "metadata": {},
   "source": [
    "## how do we use sampling distributions \n",
    "to infer where a parameter is located?"
   ]
  },
  {
   "cell_type": "markdown",
   "id": "2b2ae674",
   "metadata": {},
   "source": [
    "## 신뢰구간, 유의도 관련이네 \n",
    "confidence interval "
   ]
  },
  {
   "cell_type": "code",
   "execution_count": 1,
   "id": "486f2d46",
   "metadata": {},
   "outputs": [],
   "source": [
    "import numpy as np\n",
    "import pandas as pd \n",
    "import matplotlib.pyplot as plt \n"
   ]
  },
  {
   "cell_type": "code",
   "execution_count": 2,
   "id": "855f879d",
   "metadata": {},
   "outputs": [],
   "source": [
    "np.random.seed(42)"
   ]
  },
  {
   "cell_type": "code",
   "execution_count": 3,
   "id": "817277d7",
   "metadata": {},
   "outputs": [],
   "source": [
    "coffee_full = pd.read_csv('coffee_dataset.csv')"
   ]
  },
  {
   "cell_type": "code",
   "execution_count": 4,
   "id": "ce2f0a50",
   "metadata": {},
   "outputs": [
    {
     "data": {
      "text/html": [
       "<div>\n",
       "<style scoped>\n",
       "    .dataframe tbody tr th:only-of-type {\n",
       "        vertical-align: middle;\n",
       "    }\n",
       "\n",
       "    .dataframe tbody tr th {\n",
       "        vertical-align: top;\n",
       "    }\n",
       "\n",
       "    .dataframe thead th {\n",
       "        text-align: right;\n",
       "    }\n",
       "</style>\n",
       "<table border=\"1\" class=\"dataframe\">\n",
       "  <thead>\n",
       "    <tr style=\"text-align: right;\">\n",
       "      <th></th>\n",
       "      <th>user_id</th>\n",
       "      <th>age</th>\n",
       "      <th>drinks_coffee</th>\n",
       "      <th>height</th>\n",
       "    </tr>\n",
       "  </thead>\n",
       "  <tbody>\n",
       "    <tr>\n",
       "      <th>0</th>\n",
       "      <td>4509</td>\n",
       "      <td>&lt;21</td>\n",
       "      <td>False</td>\n",
       "      <td>64.538179</td>\n",
       "    </tr>\n",
       "    <tr>\n",
       "      <th>1</th>\n",
       "      <td>1864</td>\n",
       "      <td>&gt;=21</td>\n",
       "      <td>True</td>\n",
       "      <td>65.824249</td>\n",
       "    </tr>\n",
       "    <tr>\n",
       "      <th>2</th>\n",
       "      <td>2060</td>\n",
       "      <td>&lt;21</td>\n",
       "      <td>False</td>\n",
       "      <td>71.319854</td>\n",
       "    </tr>\n",
       "    <tr>\n",
       "      <th>3</th>\n",
       "      <td>7875</td>\n",
       "      <td>&gt;=21</td>\n",
       "      <td>True</td>\n",
       "      <td>68.569404</td>\n",
       "    </tr>\n",
       "    <tr>\n",
       "      <th>4</th>\n",
       "      <td>6254</td>\n",
       "      <td>&lt;21</td>\n",
       "      <td>True</td>\n",
       "      <td>64.020226</td>\n",
       "    </tr>\n",
       "    <tr>\n",
       "      <th>...</th>\n",
       "      <td>...</td>\n",
       "      <td>...</td>\n",
       "      <td>...</td>\n",
       "      <td>...</td>\n",
       "    </tr>\n",
       "    <tr>\n",
       "      <th>2969</th>\n",
       "      <td>5984</td>\n",
       "      <td>&gt;=21</td>\n",
       "      <td>True</td>\n",
       "      <td>68.544084</td>\n",
       "    </tr>\n",
       "    <tr>\n",
       "      <th>2970</th>\n",
       "      <td>5302</td>\n",
       "      <td>&lt;21</td>\n",
       "      <td>True</td>\n",
       "      <td>63.822921</td>\n",
       "    </tr>\n",
       "    <tr>\n",
       "      <th>2971</th>\n",
       "      <td>5978</td>\n",
       "      <td>&gt;=21</td>\n",
       "      <td>True</td>\n",
       "      <td>67.298275</td>\n",
       "    </tr>\n",
       "    <tr>\n",
       "      <th>2972</th>\n",
       "      <td>3900</td>\n",
       "      <td>&lt;21</td>\n",
       "      <td>False</td>\n",
       "      <td>60.095933</td>\n",
       "    </tr>\n",
       "    <tr>\n",
       "      <th>2973</th>\n",
       "      <td>5705</td>\n",
       "      <td>&lt;21</td>\n",
       "      <td>False</td>\n",
       "      <td>63.765869</td>\n",
       "    </tr>\n",
       "  </tbody>\n",
       "</table>\n",
       "<p>2974 rows × 4 columns</p>\n",
       "</div>"
      ],
      "text/plain": [
       "      user_id   age  drinks_coffee     height\n",
       "0        4509   <21          False  64.538179\n",
       "1        1864  >=21           True  65.824249\n",
       "2        2060   <21          False  71.319854\n",
       "3        7875  >=21           True  68.569404\n",
       "4        6254   <21           True  64.020226\n",
       "...       ...   ...            ...        ...\n",
       "2969     5984  >=21           True  68.544084\n",
       "2970     5302   <21           True  63.822921\n",
       "2971     5978  >=21           True  67.298275\n",
       "2972     3900   <21          False  60.095933\n",
       "2973     5705   <21          False  63.765869\n",
       "\n",
       "[2974 rows x 4 columns]"
      ]
     },
     "execution_count": 4,
     "metadata": {},
     "output_type": "execute_result"
    }
   ],
   "source": [
    "coffee_full"
   ]
  },
  {
   "cell_type": "code",
   "execution_count": 5,
   "id": "64548a85",
   "metadata": {},
   "outputs": [],
   "source": [
    "coffee_red = coffee_full.sample(200)"
   ]
  },
  {
   "cell_type": "code",
   "execution_count": 8,
   "id": "2520eb13",
   "metadata": {},
   "outputs": [
    {
     "data": {
      "text/plain": [
       "((200, 4), (2974, 4))"
      ]
     },
     "execution_count": 8,
     "metadata": {},
     "output_type": "execute_result"
    }
   ],
   "source": [
    "coffee_red.shape, coffee_full.shape"
   ]
  },
  {
   "cell_type": "code",
   "execution_count": 12,
   "id": "37590065",
   "metadata": {},
   "outputs": [],
   "source": [
    "# 1. what is the propotion of coffee drinkers in the sample?\n",
    "# what is the propotion of individuals that don't drink coffe??\n",
    "\n",
    "query_y = 'drinks_coffee == True'\n",
    "query_n = 'drinks_coffee == False'"
   ]
  },
  {
   "cell_type": "code",
   "execution_count": null,
   "id": "69049f04",
   "metadata": {},
   "outputs": [],
   "source": []
  },
  {
   "cell_type": "code",
   "execution_count": 16,
   "id": "042d0f22",
   "metadata": {},
   "outputs": [
    {
     "data": {
      "text/plain": [
       "0.595"
      ]
     },
     "execution_count": 16,
     "metadata": {},
     "output_type": "execute_result"
    }
   ],
   "source": [
    "coffee_red.query(query_y).shape[0]/coffee_red.shape[0]"
   ]
  },
  {
   "cell_type": "code",
   "execution_count": 17,
   "id": "32298a08",
   "metadata": {},
   "outputs": [
    {
     "data": {
      "text/plain": [
       "0.405"
      ]
     },
     "execution_count": 17,
     "metadata": {},
     "output_type": "execute_result"
    }
   ],
   "source": [
    "coffee_red.query(query_n).shape[0]/coffee_red.shape[0]"
   ]
  },
  {
   "cell_type": "code",
   "execution_count": 20,
   "id": "a3c55332",
   "metadata": {},
   "outputs": [
    {
     "data": {
      "text/plain": [
       "68.11962990858618"
      ]
     },
     "execution_count": 20,
     "metadata": {},
     "output_type": "execute_result"
    }
   ],
   "source": [
    "# average hieght\n",
    "coffee_red.query(query_y)['height'].mean()"
   ]
  },
  {
   "cell_type": "code",
   "execution_count": 21,
   "id": "dd90266d",
   "metadata": {},
   "outputs": [
    {
     "data": {
      "text/plain": [
       "66.78492279927877"
      ]
     },
     "execution_count": 21,
     "metadata": {},
     "output_type": "execute_result"
    }
   ],
   "source": [
    "coffee_red.query(query_n)['height'].mean()"
   ]
  },
  {
   "cell_type": "code",
   "execution_count": 38,
   "id": "a457285a",
   "metadata": {},
   "outputs": [],
   "source": [
    "# 3. simulate 200 \" new\" individual of 200 \n",
    "sample_df = coffee_red.sample(200, replace=True)"
   ]
  },
  {
   "cell_type": "code",
   "execution_count": 39,
   "id": "8ac1769a",
   "metadata": {},
   "outputs": [
    {
     "data": {
      "text/plain": [
       "0.585"
      ]
     },
     "execution_count": 39,
     "metadata": {},
     "output_type": "execute_result"
    }
   ],
   "source": [
    "sample_df.query(query_y).shape[0]/sample_df.shape[0]"
   ]
  },
  {
   "cell_type": "code",
   "execution_count": 40,
   "id": "fb57bcb9",
   "metadata": {},
   "outputs": [
    {
     "data": {
      "text/plain": [
       "0.415"
      ]
     },
     "execution_count": 40,
     "metadata": {},
     "output_type": "execute_result"
    }
   ],
   "source": [
    "sample_df.query(query_n).shape[0]/sample_df.shape[0]"
   ]
  },
  {
   "cell_type": "code",
   "execution_count": 42,
   "id": "d9313c3d",
   "metadata": {},
   "outputs": [
    {
     "data": {
      "text/plain": [
       "0.585"
      ]
     },
     "execution_count": 42,
     "metadata": {},
     "output_type": "execute_result"
    }
   ],
   "source": [
    "sample_df['drinks_coffee'].mean()"
   ]
  },
  {
   "cell_type": "code",
   "execution_count": 43,
   "id": "195407bd",
   "metadata": {},
   "outputs": [
    {
     "data": {
      "text/plain": [
       "(array([  11.,   77.,  451., 1526., 2853., 2933., 1562.,  478.,   98.,\n",
       "          11.]),\n",
       " array([65.17441573, 65.49429857, 65.81418142, 66.13406426, 66.45394711,\n",
       "        66.77382995, 67.0937128 , 67.41359564, 67.73347848, 68.05336133,\n",
       "        68.37324417]),\n",
       " <BarContainer object of 10 artists>)"
      ]
     },
     "execution_count": 43,
     "metadata": {},
     "output_type": "execute_result"
    },
    {
     "data": {
      "image/png": "[encoded data removed]",
      "text/plain": [
       "<Figure size 432x288 with 1 Axes>"
      ]
     },
     "metadata": {
      "needs_background": "light"
     },
     "output_type": "display_data"
    }
   ],
   "source": [
    "#  4. simulate bootstrap sample 10000 times, \n",
    "# mean height of non-drnker in each sample \n",
    "\n",
    "boot_means = []\n",
    "for _ in range(10000):\n",
    "    bootsamp = coffee_red.sample(200, replace=True)\n",
    "    boot_mean = bootsamp[bootsamp['drinks_coffee'] == False]['height'].mean()\n",
    "    boot_means.append(boot_mean)\n",
    "    \n",
    "plt.hist(boot_means)"
   ]
  },
  {
   "cell_type": "code",
   "execution_count": 44,
   "id": "3b60bdfb",
   "metadata": {},
   "outputs": [
    {
     "data": {
      "text/plain": [
       "(65.98804599318586, 67.5827405841188)"
      ]
     },
     "execution_count": 44,
     "metadata": {},
     "output_type": "execute_result"
    }
   ],
   "source": [
    "np.percentile(boot_means, 2.5), np.percentile(boot_means, 97.5)"
   ]
  },
  {
   "cell_type": "code",
   "execution_count": 45,
   "id": "1420aac5",
   "metadata": {},
   "outputs": [
    {
     "data": {
      "text/plain": [
       "66.44340776214703"
      ]
     },
     "execution_count": 45,
     "metadata": {},
     "output_type": "execute_result"
    }
   ],
   "source": [
    "# 5. Did yout interval campture the actual average \n",
    "\n",
    "coffee_full[coffee_full['drinks_coffee'] == False]['height'].mean()"
   ]
  },
  {
   "cell_type": "code",
   "execution_count": null,
   "id": "1b1701c4",
   "metadata": {},
   "outputs": [],
   "source": []
  },
  {
   "cell_type": "code",
   "execution_count": null,
   "id": "f77230bf",
   "metadata": {},
   "outputs": [],
   "source": []
  },
  {
   "cell_type": "code",
   "execution_count": null,
   "id": "2e19e572",
   "metadata": {},
   "outputs": [],
   "source": []
  },
  {
   "cell_type": "code",
   "execution_count": null,
   "id": "e9ec7e63",
   "metadata": {},
   "outputs": [],
   "source": []
  },
  {
   "cell_type": "code",
   "execution_count": null,
   "id": "bb8ab02d",
   "metadata": {},
   "outputs": [],
   "source": []
  },
  {
   "cell_type": "code",
   "execution_count": null,
   "id": "2cc95792",
   "metadata": {},
   "outputs": [],
   "source": []
  },
  {
   "cell_type": "code",
   "execution_count": null,
   "id": "8d19d77b",
   "metadata": {},
   "outputs": [],
   "source": []
  },
  {
   "cell_type": "code",
   "execution_count": null,
   "id": "beb13ef8",
   "metadata": {},
   "outputs": [],
   "source": []
  },
  {
   "cell_type": "code",
   "execution_count": null,
   "id": "20270747",
   "metadata": {},
   "outputs": [],
   "source": []
  }
 ],
 "metadata": {
  "kernelspec": {
   "display_name": "Python 3",
   "language": "python",
   "name": "python3"
  },
  "language_info": {
   "codemirror_mode": {
    "name": "ipython",
    "version": 3
   },
   "file_extension": ".py",
   "mimetype": "text/x-python",
   "name": "python",
   "nbconvert_exporter": "python",
   "pygments_lexer": "ipython3",
   "version": "3.8.8"
  }
 },
 "nbformat": 4,
 "nbformat_minor": 5
}

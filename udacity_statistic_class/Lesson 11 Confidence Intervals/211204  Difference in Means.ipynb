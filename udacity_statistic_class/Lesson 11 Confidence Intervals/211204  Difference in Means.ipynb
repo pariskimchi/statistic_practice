{
 "cells": [
  {
   "cell_type": "markdown",
   "id": "6e60f585",
   "metadata": {},
   "source": [
    "## Confidence Interval - Difference  In Means"
   ]
  },
  {
   "cell_type": "code",
   "execution_count": 6,
   "id": "bf7625f2",
   "metadata": {},
   "outputs": [],
   "source": [
    "import numpy as np\n",
    "import pandas as pd \n",
    "import matplotlib.pyplot as plt \n",
    "%matplotlib inline\n",
    "\n",
    "np.random.seed(42)\n",
    "\n",
    "df = pd.read_csv('coffee_dataset.csv')\n",
    "sample_df = df.sample(200)"
   ]
  },
  {
   "cell_type": "code",
   "execution_count": null,
   "id": "05d85041",
   "metadata": {},
   "outputs": [],
   "source": []
  },
  {
   "cell_type": "markdown",
   "id": "c016443e",
   "metadata": {},
   "source": [
    "`1.` For 10,000 iterations, bootstrap sample your sample data, compute the difference in the average heights for coffee and non-coffee drinkers.  Build a 99% confidence interval using your sampling distribution.  Use your interval to start answering the first quiz question below."
   ]
  },
  {
   "cell_type": "code",
   "execution_count": 9,
   "id": "a19cd939",
   "metadata": {},
   "outputs": [],
   "source": [
    "sample_list =[]\n",
    "for _ in range(10000):\n",
    "    sample = sample_df.sample(200, replace=True)\n",
    "    means_y = sample[sample['drinks_coffee']==True]['height'].mean()\n",
    "    means_n = sample[sample['drinks_coffee']==False]['height'].mean()\n",
    "    diff_mean = (means_y - means_n)\n",
    "    sample_list.append(diff_mean)"
   ]
  },
  {
   "cell_type": "code",
   "execution_count": 10,
   "id": "4480a837",
   "metadata": {},
   "outputs": [
    {
     "data": {
      "text/plain": [
       "(array([  24.,  109.,  546., 1516., 2623., 2826., 1664.,  568.,  106.,\n",
       "          18.]),\n",
       " array([-0.43028277, -0.07929544,  0.2716919 ,  0.62267923,  0.97366656,\n",
       "         1.3246539 ,  1.67564123,  2.02662857,  2.3776159 ,  2.72860323,\n",
       "         3.07959057]),\n",
       " <BarContainer object of 10 artists>)"
      ]
     },
     "execution_count": 10,
     "metadata": {},
     "output_type": "execute_result"
    },
    {
     "data": {
      "image/png": "[encoded data removed]",
      "text/plain": [
       "<Figure size 432x288 with 1 Axes>"
      ]
     },
     "metadata": {
      "needs_background": "light"
     },
     "output_type": "display_data"
    }
   ],
   "source": [
    "plt.hist(sample_list)"
   ]
  },
  {
   "cell_type": "code",
   "execution_count": 12,
   "id": "e3944d8c",
   "metadata": {},
   "outputs": [
    {
     "data": {
      "text/plain": [
       "(0.10258900080921117, 2.538833370796657)"
      ]
     },
     "execution_count": 12,
     "metadata": {},
     "output_type": "execute_result"
    }
   ],
   "source": [
    "np.percentile(sample_list,0.5),np.percentile(sample_list,99.5)"
   ]
  },
  {
   "cell_type": "markdown",
   "id": "59d60768",
   "metadata": {},
   "source": [
    "`2.` For 10,000 iterations, bootstrap sample your sample data, compute the difference in the average heights for those older than 21 and those younger than 21.  Build a 99% confidence interval using your sampling distribution.  Use your interval to finish answering the first quiz question below.  "
   ]
  },
  {
   "cell_type": "code",
   "execution_count": 18,
   "id": "24baab38",
   "metadata": {},
   "outputs": [
    {
     "data": {
      "text/plain": [
       "array(['<21', '>=21'], dtype=object)"
      ]
     },
     "execution_count": 18,
     "metadata": {},
     "output_type": "execute_result"
    }
   ],
   "source": [
    "sample_df['age'].unique()"
   ]
  },
  {
   "cell_type": "code",
   "execution_count": 19,
   "id": "60c6769b",
   "metadata": {},
   "outputs": [],
   "source": [
    "sample_list = []\n",
    "for _ in range(10000):\n",
    "    sample = sample_df.sample(200, replace=True)\n",
    "    sample_over_age = sample[sample['age']=='>=21']['height'].mean()\n",
    "    sample_under_age = sample[sample['age']=='<21']['height'].mean()\n",
    "    diff_mean = (sample_over_age - sample_under_age)\n",
    "    sample_list.append(diff_mean)"
   ]
  },
  {
   "cell_type": "code",
   "execution_count": 20,
   "id": "9fb249be",
   "metadata": {},
   "outputs": [
    {
     "data": {
      "text/plain": [
       "(array([   8.,   47.,  329., 1196., 2589., 3084., 1902.,  714.,  117.,\n",
       "          14.]),\n",
       " array([2.84743507, 3.11400025, 3.38056542, 3.64713059, 3.91369577,\n",
       "        4.18026094, 4.44682611, 4.71339129, 4.97995646, 5.24652163,\n",
       "        5.51308681]),\n",
       " <BarContainer object of 10 artists>)"
      ]
     },
     "execution_count": 20,
     "metadata": {},
     "output_type": "execute_result"
    },
    {
     "data": {
      "image/png": "[encoded data removed]",
      "text/plain": [
       "<Figure size 432x288 with 1 Axes>"
      ]
     },
     "metadata": {
      "needs_background": "light"
     },
     "output_type": "display_data"
    }
   ],
   "source": [
    "plt.hist(sample_list)"
   ]
  },
  {
   "cell_type": "code",
   "execution_count": 21,
   "id": "b9ba1589",
   "metadata": {},
   "outputs": [
    {
     "data": {
      "text/plain": [
       "(3.3652749452554938, 5.0932450670661495)"
      ]
     },
     "execution_count": 21,
     "metadata": {},
     "output_type": "execute_result"
    }
   ],
   "source": [
    "np.percentile(sample_list,0.5), np.percentile(sample_list,99.5)"
   ]
  },
  {
   "cell_type": "markdown",
   "id": "135ae547",
   "metadata": {},
   "source": [
    "`3.` For 10,000 iterations bootstrap your sample data, compute the **difference** in the average height for coffee drinkers and the average height for non-coffee drinkers for individuals **under** 21 years old.  Using your sampling distribution, build a 95% confidence interval.  Use your interval to start answering question 2 below."
   ]
  },
  {
   "cell_type": "code",
   "execution_count": 32,
   "id": "8cd2cc31",
   "metadata": {},
   "outputs": [],
   "source": [
    "# under 21 years old \n",
    "sample_list = []\n",
    "for _ in range(10000):\n",
    "    sample = sample_df.sample(200, replace=True)\n",
    "    sample = sample[sample['age']=='<21']\n",
    "    mean_y = sample[sample['drinks_coffee']==True]['height'].mean()\n",
    "    mean_n = sample[sample['drinks_coffee']==False]['height'].mean()\n",
    "    diff_mean = (mean_y - mean_n)\n",
    "    sample_list.append(diff_mean)"
   ]
  },
  {
   "cell_type": "code",
   "execution_count": 33,
   "id": "a6e9cdd0",
   "metadata": {},
   "outputs": [
    {
     "data": {
      "text/plain": [
       "(array([   5.,   82.,  413., 1382., 2583., 2827., 1846.,  686.,  152.,\n",
       "          24.]),\n",
       " array([-3.36440802, -3.0712282 , -2.77804838, -2.48486856, -2.19168874,\n",
       "        -1.89850892, -1.6053291 , -1.31214928, -1.01896947, -0.72578965,\n",
       "        -0.43260983]),\n",
       " <BarContainer object of 10 artists>)"
      ]
     },
     "execution_count": 33,
     "metadata": {},
     "output_type": "execute_result"
    },
    {
     "data": {
      "image/png": "[encoded data removed]",
      "text/plain": [
       "<Figure size 432x288 with 1 Axes>"
      ]
     },
     "metadata": {
      "needs_background": "light"
     },
     "output_type": "display_data"
    }
   ],
   "source": [
    "plt.hist(sample_list)"
   ]
  },
  {
   "cell_type": "code",
   "execution_count": 34,
   "id": "7d6448b6",
   "metadata": {},
   "outputs": [
    {
     "data": {
      "text/plain": [
       "(-2.6104831869381875, -1.070972788751888)"
      ]
     },
     "execution_count": 34,
     "metadata": {},
     "output_type": "execute_result"
    }
   ],
   "source": [
    "np.percentile(sample_list,2.5), np.percentile(sample_list,97.5)"
   ]
  },
  {
   "cell_type": "markdown",
   "id": "768eb632",
   "metadata": {},
   "source": [
    "`4.` For 10,000 iterations bootstrap your sample data, compute the **difference** in the average height for coffee drinkers and the average height for non-coffee drinkers for individuals **over** 21 years old.  Using your sampling distribution, build a 95% confidence interval. Use your interval to finish answering the second quiz question below. As well as the following questions. "
   ]
  },
  {
   "cell_type": "code",
   "execution_count": 66,
   "id": "d1d217a5",
   "metadata": {},
   "outputs": [],
   "source": [
    "df = pd.read_csv('coffee_dataset.csv')\n",
    "sample_df = df.sample(200)"
   ]
  },
  {
   "cell_type": "code",
   "execution_count": 71,
   "id": "63dd8822",
   "metadata": {},
   "outputs": [],
   "source": [
    "sample_list = []\n",
    "for _ in range(10000):\n",
    "    sample = sample_df.sample(200, replace=True)\n",
    "    mean_y = sample.query(\"age != '>=21' and drinks_coffee == True\")['height'].mean()\n",
    "    mean_n = sample.query(\"age != '>=21' and drinks_coffee == False\")['height'].mean()\n",
    "    sample_list.append(mean_y - mean_n)"
   ]
  },
  {
   "cell_type": "code",
   "execution_count": 72,
   "id": "13d771ba",
   "metadata": {},
   "outputs": [
    {
     "data": {
      "text/plain": [
       "(array([1.200e+01, 1.260e+02, 7.370e+02, 2.180e+03, 3.203e+03, 2.521e+03,\n",
       "        9.970e+02, 1.950e+02, 2.700e+01, 2.000e+00]),\n",
       " array([-2.6567083 , -2.33008538, -2.00346246, -1.67683954, -1.35021662,\n",
       "        -1.0235937 , -0.69697078, -0.37034786, -0.04372494,  0.28289798,\n",
       "         0.6095209 ]),\n",
       " <BarContainer object of 10 artists>)"
      ]
     },
     "execution_count": 72,
     "metadata": {},
     "output_type": "execute_result"
    },
    {
     "data": {
      "image/png": "[encoded data removed]",
      "text/plain": [
       "<Figure size 432x288 with 1 Axes>"
      ]
     },
     "metadata": {
      "needs_background": "light"
     },
     "output_type": "display_data"
    }
   ],
   "source": [
    "plt.hist(sample_list)"
   ]
  },
  {
   "cell_type": "code",
   "execution_count": 73,
   "id": "9a92a4ec",
   "metadata": {
    "scrolled": true
   },
   "outputs": [
    {
     "data": {
      "text/plain": [
       "-1.9090425368876882"
      ]
     },
     "execution_count": 73,
     "metadata": {},
     "output_type": "execute_result"
    }
   ],
   "source": [
    "np.percentile(sample_list,2.5)"
   ]
  },
  {
   "cell_type": "code",
   "execution_count": 74,
   "id": "7b082326",
   "metadata": {},
   "outputs": [
    {
     "data": {
      "text/plain": [
       "-0.3843903530833608"
      ]
     },
     "execution_count": 74,
     "metadata": {},
     "output_type": "execute_result"
    }
   ],
   "source": [
    "np.percentile(sample_list,97.5)"
   ]
  }
 ],
 "metadata": {
  "kernelspec": {
   "display_name": "Python 3",
   "language": "python",
   "name": "python3"
  },
  "language_info": {
   "codemirror_mode": {
    "name": "ipython",
    "version": 3
   },
   "file_extension": ".py",
   "mimetype": "text/x-python",
   "name": "python",
   "nbconvert_exporter": "python",
   "pygments_lexer": "ipython3",
   "version": "3.8.8"
  }
 },
 "nbformat": 4,
 "nbformat_minor": 5
}

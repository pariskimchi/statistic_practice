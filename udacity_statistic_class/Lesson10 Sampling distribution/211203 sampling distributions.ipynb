{
 "cells": [
  {
   "cell_type": "markdown",
   "id": "af0a2e82",
   "metadata": {},
   "source": [
    "## Sampling Distributions Introduction"
   ]
  },
  {
   "cell_type": "code",
   "execution_count": 1,
   "id": "d6d665c6",
   "metadata": {},
   "outputs": [],
   "source": [
    "import numpy as np\n",
    "import pandas as pd \n",
    "import matplotlib.pyplot as plt\n",
    "%matplotlib inline"
   ]
  },
  {
   "cell_type": "code",
   "execution_count": 2,
   "id": "bb14bba8",
   "metadata": {},
   "outputs": [],
   "source": [
    "np.random.seed(42)"
   ]
  },
  {
   "cell_type": "code",
   "execution_count": 3,
   "id": "cd164683",
   "metadata": {},
   "outputs": [],
   "source": [
    "students = np.array([1,0,1,1,1,1,0,0,0,0,1,1,1,1,1,1,1,1,1,1,0])"
   ]
  },
  {
   "cell_type": "code",
   "execution_count": 5,
   "id": "f8aaf3c0",
   "metadata": {},
   "outputs": [
    {
     "data": {
      "text/plain": [
       "0.7142857142857143"
      ]
     },
     "execution_count": 5,
     "metadata": {},
     "output_type": "execute_result"
    }
   ],
   "source": [
    "# find the proportion of students who drink coffee,\n",
    "(students ==1).mean()"
   ]
  },
  {
   "cell_type": "code",
   "execution_count": 35,
   "id": "020c615d",
   "metadata": {},
   "outputs": [
    {
     "data": {
      "text/plain": [
       "1.0"
      ]
     },
     "execution_count": 35,
     "metadata": {},
     "output_type": "execute_result"
    }
   ],
   "source": [
    "#2. use random.choice, to simulate 5 draw from the students array.\n",
    "\n",
    "np.random.choice(students,5).mean()"
   ]
  },
  {
   "cell_type": "code",
   "execution_count": 38,
   "id": "fc95e3fd",
   "metadata": {},
   "outputs": [],
   "source": [
    "# 이 학생들 에서 , 5명을 샘플로 삼는걸 10000번 해라\n",
    "sample_props = []\n",
    "for _ in range(10000):\n",
    "    sample = np.random.choice(students,5,replace=True)\n",
    "    sample_props.append(sample.mean())"
   ]
  },
  {
   "cell_type": "code",
   "execution_count": 41,
   "id": "83ef532d",
   "metadata": {},
   "outputs": [],
   "source": [
    "# 방금 10000번 돌려서 나온거의 샘플 분포 확률 좀 보자\n",
    "sample_props = np.array(sample_props)"
   ]
  },
  {
   "cell_type": "code",
   "execution_count": 42,
   "id": "d881d447",
   "metadata": {},
   "outputs": [
    {
     "data": {
      "text/plain": [
       "0.71416"
      ]
     },
     "execution_count": 42,
     "metadata": {},
     "output_type": "execute_result"
    }
   ],
   "source": [
    "sample_props.mean()"
   ]
  },
  {
   "cell_type": "code",
   "execution_count": 43,
   "id": "69555a51",
   "metadata": {},
   "outputs": [
    {
     "data": {
      "text/plain": [
       "0.45175395145262565"
      ]
     },
     "execution_count": 43,
     "metadata": {},
     "output_type": "execute_result"
    }
   ],
   "source": [
    "students.std()"
   ]
  },
  {
   "cell_type": "code",
   "execution_count": 44,
   "id": "b42bee8e",
   "metadata": {},
   "outputs": [
    {
     "data": {
      "text/plain": [
       "0.20408163265306126"
      ]
     },
     "execution_count": 44,
     "metadata": {},
     "output_type": "execute_result"
    }
   ],
   "source": [
    "students.var()"
   ]
  },
  {
   "cell_type": "code",
   "execution_count": 45,
   "id": "94a1667a",
   "metadata": {},
   "outputs": [
    {
     "data": {
      "text/plain": [
       "0.20435139931010995"
      ]
     },
     "execution_count": 45,
     "metadata": {},
     "output_type": "execute_result"
    }
   ],
   "source": [
    "sample_props.std()"
   ]
  },
  {
   "cell_type": "code",
   "execution_count": 46,
   "id": "25540147",
   "metadata": {
    "scrolled": true
   },
   "outputs": [
    {
     "data": {
      "text/plain": [
       "0.041759494400000007"
      ]
     },
     "execution_count": 46,
     "metadata": {},
     "output_type": "execute_result"
    }
   ],
   "source": [
    "sample_props.var()"
   ]
  },
  {
   "cell_type": "code",
   "execution_count": 47,
   "id": "64851c69",
   "metadata": {},
   "outputs": [],
   "source": [
    "#compute p(1-p)\n",
    "p = (students==1).mean()"
   ]
  },
  {
   "cell_type": "code",
   "execution_count": 49,
   "id": "ceeb18e6",
   "metadata": {},
   "outputs": [
    {
     "data": {
      "text/plain": [
       "0.20408163265306123"
      ]
     },
     "execution_count": 49,
     "metadata": {},
     "output_type": "execute_result"
    }
   ],
   "source": [
    "# p(1-p) => 분산 (variance)\n",
    "p*(1-p)"
   ]
  },
  {
   "cell_type": "code",
   "execution_count": 50,
   "id": "379c3703",
   "metadata": {},
   "outputs": [
    {
     "data": {
      "text/plain": [
       "0.04081632653061225"
      ]
     },
     "execution_count": 50,
     "metadata": {},
     "output_type": "execute_result"
    }
   ],
   "source": [
    "# p(1-p)/n => 분산의 샘플수 나누기 \n",
    "p*(1-p)/5"
   ]
  },
  {
   "cell_type": "code",
   "execution_count": null,
   "id": "0e87c5f2",
   "metadata": {},
   "outputs": [],
   "source": [
    "## 샘플 수로 분산을 나눠야 되니까, 모집단의 분산/샘플크기 수 \n",
    "## "
   ]
  },
  {
   "cell_type": "code",
   "execution_count": 51,
   "id": "615064fa",
   "metadata": {},
   "outputs": [],
   "source": [
    "sample_list = []\n",
    "for _ in range(10000):\n",
    "    sample = np.random.choice(students,20, replace=True)\n",
    "    sample_list.append(sample.mean())"
   ]
  },
  {
   "cell_type": "code",
   "execution_count": 53,
   "id": "2a08e5ce",
   "metadata": {},
   "outputs": [],
   "source": [
    "sample_list = np.array(sample_list)"
   ]
  },
  {
   "cell_type": "code",
   "execution_count": 55,
   "id": "6d785624",
   "metadata": {},
   "outputs": [
    {
     "data": {
      "text/plain": [
       "0.714835"
      ]
     },
     "execution_count": 55,
     "metadata": {},
     "output_type": "execute_result"
    }
   ],
   "source": [
    "sample_list.mean()"
   ]
  },
  {
   "cell_type": "code",
   "execution_count": 57,
   "id": "4b11abab",
   "metadata": {},
   "outputs": [
    {
     "data": {
      "text/plain": [
       "0.20408163265306126"
      ]
     },
     "execution_count": 57,
     "metadata": {},
     "output_type": "execute_result"
    }
   ],
   "source": [
    "students.var()"
   ]
  },
  {
   "cell_type": "code",
   "execution_count": 56,
   "id": "cebc3c77",
   "metadata": {},
   "outputs": [
    {
     "data": {
      "text/plain": [
       "0.010344672775000001"
      ]
     },
     "execution_count": 56,
     "metadata": {},
     "output_type": "execute_result"
    }
   ],
   "source": [
    "sample_list.var()"
   ]
  },
  {
   "cell_type": "code",
   "execution_count": 58,
   "id": "d20a62d0",
   "metadata": {},
   "outputs": [
    {
     "data": {
      "text/plain": [
       "(array([  28.,    0.,  233.,    0., 1218., 2955.,    0.,    0., 3656.,\n",
       "        1910.]),\n",
       " array([0. , 0.1, 0.2, 0.3, 0.4, 0.5, 0.6, 0.7, 0.8, 0.9, 1. ]),\n",
       " <BarContainer object of 10 artists>)"
      ]
     },
     "execution_count": 58,
     "metadata": {},
     "output_type": "execute_result"
    },
    {
     "data": {
      "image/png": "[encoded data removed]",
      "text/plain": [
       "<Figure size 432x288 with 1 Axes>"
      ]
     },
     "metadata": {
      "needs_background": "light"
     },
     "output_type": "display_data"
    }
   ],
   "source": [
    "plt.hist(sample_props)"
   ]
  },
  {
   "cell_type": "code",
   "execution_count": 59,
   "id": "549e2914",
   "metadata": {},
   "outputs": [
    {
     "data": {
      "text/plain": [
       "(array([  29.,   93.,  246., 1466., 1524., 1917., 3351.,  881.,  384.,\n",
       "         109.]),\n",
       " array([0.35 , 0.415, 0.48 , 0.545, 0.61 , 0.675, 0.74 , 0.805, 0.87 ,\n",
       "        0.935, 1.   ]),\n",
       " <BarContainer object of 10 artists>)"
      ]
     },
     "execution_count": 59,
     "metadata": {},
     "output_type": "execute_result"
    },
    {
     "data": {
      "image/png": "[encoded data removed]",
      "text/plain": [
       "<Figure size 432x288 with 1 Axes>"
      ]
     },
     "metadata": {
      "needs_background": "light"
     },
     "output_type": "display_data"
    }
   ],
   "source": [
    "plt.hist(sample_list)"
   ]
  },
  {
   "cell_type": "code",
   "execution_count": 60,
   "id": "38b9b9c9",
   "metadata": {},
   "outputs": [
    {
     "data": {
      "text/plain": [
       "0.7142857142857143"
      ]
     },
     "execution_count": 60,
     "metadata": {},
     "output_type": "execute_result"
    }
   ],
   "source": [
    "students.mean()"
   ]
  }
 ],
 "metadata": {
  "kernelspec": {
   "display_name": "Python 3",
   "language": "python",
   "name": "python3"
  },
  "language_info": {
   "codemirror_mode": {
    "name": "ipython",
    "version": 3
   },
   "file_extension": ".py",
   "mimetype": "text/x-python",
   "name": "python",
   "nbconvert_exporter": "python",
   "pygments_lexer": "ipython3",
   "version": "3.8.8"
  }
 },
 "nbformat": 4,
 "nbformat_minor": 5
}

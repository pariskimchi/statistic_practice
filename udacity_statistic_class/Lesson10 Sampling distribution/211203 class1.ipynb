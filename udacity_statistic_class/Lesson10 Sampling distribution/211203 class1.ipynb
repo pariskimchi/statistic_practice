{
 "cells": [
  {
   "cell_type": "code",
   "execution_count": 1,
   "id": "5ce236a3",
   "metadata": {},
   "outputs": [],
   "source": [
    "import numpy as np\n",
    "import pandas as pd \n",
    "import matplotlib.pyplot as plt \n",
    "%matplotlib inline"
   ]
  },
  {
   "cell_type": "markdown",
   "id": "918ff9da",
   "metadata": {},
   "source": [
    "## Inferential Statistics이란?\n",
    "    => \n",
    "    모집단에서 표본 추출해서 샘플로부터 결론 내는것\n",
    "    "
   ]
  },
  {
   "cell_type": "markdown",
   "id": "8c487529",
   "metadata": {},
   "source": [
    "## Practical Statistic이란??\n",
    "    => "
   ]
  },
  {
   "cell_type": "code",
   "execution_count": null,
   "id": "1bff70f1",
   "metadata": {},
   "outputs": [],
   "source": []
  },
  {
   "cell_type": "code",
   "execution_count": null,
   "id": "0abd8151",
   "metadata": {},
   "outputs": [],
   "source": []
  }
 ],
 "metadata": {
  "kernelspec": {
   "display_name": "Python 3",
   "language": "python",
   "name": "python3"
  },
  "language_info": {
   "codemirror_mode": {
    "name": "ipython",
    "version": 3
   },
   "file_extension": ".py",
   "mimetype": "text/x-python",
   "name": "python",
   "nbconvert_exporter": "python",
   "pygments_lexer": "ipython3",
   "version": "3.8.8"
  }
 },
 "nbformat": 4,
 "nbformat_minor": 5
}

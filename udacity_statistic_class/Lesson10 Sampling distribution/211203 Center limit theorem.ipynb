{
 "cells": [
  {
   "cell_type": "code",
   "execution_count": 1,
   "id": "0e18dcca",
   "metadata": {},
   "outputs": [
    {
     "data": {
      "text/plain": [
       "(array([1663.,  747.,  329.,  134.,   73.,   34.,   13.,    5.,    0.,\n",
       "           2.]),\n",
       " array([1.16348231e-03, 8.17255031e+01, 1.63449843e+02, 2.45174182e+02,\n",
       "        3.26898522e+02, 4.08622862e+02, 4.90347201e+02, 5.72071541e+02,\n",
       "        6.53795881e+02, 7.35520220e+02, 8.17244560e+02]),\n",
       " <BarContainer object of 10 artists>)"
      ]
     },
     "execution_count": 1,
     "metadata": {},
     "output_type": "execute_result"
    },
    {
     "data": {
      "image/png": "[encoded data removed]",
      "text/plain": [
       "<Figure size 432x288 with 1 Axes>"
      ]
     },
     "metadata": {
      "needs_background": "light"
     },
     "output_type": "display_data"
    }
   ],
   "source": [
    "import numpy as np\n",
    "import matplotlib.pyplot as plt \n",
    "\n",
    "%matplotlib inline\n",
    "np.random.seed(42)\n",
    "\n",
    "pop_data = np.random.gamma(1,100,3000)\n",
    "plt.hist(pop_data)"
   ]
  },
  {
   "cell_type": "code",
   "execution_count": 2,
   "id": "e03b218a",
   "metadata": {},
   "outputs": [],
   "source": [
    "# 1. sampling distribution for the average of 3 draw \n",
    "sample = np.random.choice(pop_data,3,replace=True)"
   ]
  },
  {
   "cell_type": "code",
   "execution_count": 3,
   "id": "bcd5ae59",
   "metadata": {},
   "outputs": [
    {
     "data": {
      "text/plain": [
       "34.86585877838206"
      ]
     },
     "execution_count": 3,
     "metadata": {},
     "output_type": "execute_result"
    }
   ],
   "source": [
    "sample.mean()"
   ]
  },
  {
   "cell_type": "code",
   "execution_count": 4,
   "id": "18caa462",
   "metadata": {},
   "outputs": [],
   "source": [
    "sample_list = []\n",
    "for _ in range(10000):\n",
    "    sample = np.random.choice(pop_data,3)\n",
    "    sample_list.append(sample)"
   ]
  },
  {
   "cell_type": "code",
   "execution_count": 7,
   "id": "5dfebba6",
   "metadata": {},
   "outputs": [],
   "source": [
    "sample_list = np.array(sample_list)"
   ]
  },
  {
   "cell_type": "code",
   "execution_count": 8,
   "id": "066e5c4e",
   "metadata": {},
   "outputs": [
    {
     "data": {
      "text/plain": [
       "10000"
      ]
     },
     "execution_count": 8,
     "metadata": {},
     "output_type": "execute_result"
    }
   ],
   "source": [
    "sample_list.shape[0]"
   ]
  },
  {
   "cell_type": "code",
   "execution_count": 9,
   "id": "c0812c2f",
   "metadata": {},
   "outputs": [
    {
     "data": {
      "text/plain": [
       "(array([[5525., 2470., 1134.,  421.,  242.,  135.,   45.,   19.,    0.,\n",
       "            9.],\n",
       "        [5503., 2561., 1085.,  421.,  249.,  113.,   39.,   21.,    0.,\n",
       "            8.],\n",
       "        [5521., 2486., 1106.,  496.,  237.,   95.,   40.,   12.,    0.,\n",
       "            7.]]),\n",
       " array([1.16348231e-03, 8.17255031e+01, 1.63449843e+02, 2.45174182e+02,\n",
       "        3.26898522e+02, 4.08622862e+02, 4.90347201e+02, 5.72071541e+02,\n",
       "        6.53795881e+02, 7.35520220e+02, 8.17244560e+02]),\n",
       " <a list of 3 BarContainer objects>)"
      ]
     },
     "execution_count": 9,
     "metadata": {},
     "output_type": "execute_result"
    },
    {
     "data": {
      "image/png": "[encoded data removed]",
      "text/plain": [
       "<Figure size 432x288 with 1 Axes>"
      ]
     },
     "metadata": {
      "needs_background": "light"
     },
     "output_type": "display_data"
    }
   ],
   "source": [
    "plt.hist(sample_list)"
   ]
  },
  {
   "cell_type": "code",
   "execution_count": 10,
   "id": "be6ef190",
   "metadata": {},
   "outputs": [
    {
     "data": {
      "text/plain": [
       "100.87276259567302"
      ]
     },
     "execution_count": 10,
     "metadata": {},
     "output_type": "execute_result"
    }
   ],
   "source": [
    "sample_list.mean()"
   ]
  },
  {
   "cell_type": "code",
   "execution_count": 11,
   "id": "2b26374c",
   "metadata": {},
   "outputs": [
    {
     "data": {
      "text/plain": [
       "100.35978700795846"
      ]
     },
     "execution_count": 11,
     "metadata": {},
     "output_type": "execute_result"
    }
   ],
   "source": [
    "pop_data.mean()"
   ]
  },
  {
   "cell_type": "code",
   "execution_count": 12,
   "id": "19d79d41",
   "metadata": {},
   "outputs": [
    {
     "data": {
      "text/plain": [
       "99.77860187968906"
      ]
     },
     "execution_count": 12,
     "metadata": {},
     "output_type": "execute_result"
    }
   ],
   "source": [
    "pop_data.std()"
   ]
  },
  {
   "cell_type": "code",
   "execution_count": 13,
   "id": "213bd4f8",
   "metadata": {},
   "outputs": [
    {
     "data": {
      "text/plain": [
       "99.93554701726195"
      ]
     },
     "execution_count": 13,
     "metadata": {},
     "output_type": "execute_result"
    }
   ],
   "source": [
    "sample_list.std()"
   ]
  },
  {
   "cell_type": "code",
   "execution_count": 14,
   "id": "babbaeb0",
   "metadata": {},
   "outputs": [
    {
     "data": {
      "text/plain": [
       "40.1583317012196"
      ]
     },
     "execution_count": 14,
     "metadata": {},
     "output_type": "execute_result"
    }
   ],
   "source": [
    "sample.std()"
   ]
  },
  {
   "cell_type": "markdown",
   "id": "04b0fe93",
   "metadata": {},
   "source": [
    "## Central limit theorem - Part II "
   ]
  },
  {
   "cell_type": "code",
   "execution_count": 15,
   "id": "e22449fb",
   "metadata": {},
   "outputs": [],
   "source": [
    "sample_100 = np.random.choice(pop_data, 100)"
   ]
  },
  {
   "cell_type": "code",
   "execution_count": 16,
   "id": "f09f4df4",
   "metadata": {},
   "outputs": [
    {
     "data": {
      "text/plain": [
       "97.58388178095666"
      ]
     },
     "execution_count": 16,
     "metadata": {},
     "output_type": "execute_result"
    }
   ],
   "source": [
    "sample_100.mean()"
   ]
  },
  {
   "cell_type": "code",
   "execution_count": 17,
   "id": "2bca55bd",
   "metadata": {},
   "outputs": [
    {
     "data": {
      "text/plain": [
       "(array([53., 27., 15.,  1.,  2.,  1.,  0.,  0.,  0.,  1.]),\n",
       " array([4.64278407e-01, 7.48350797e+01, 1.49205881e+02, 2.23576682e+02,\n",
       "        2.97947483e+02, 3.72318285e+02, 4.46689086e+02, 5.21059887e+02,\n",
       "        5.95430688e+02, 6.69801490e+02, 7.44172291e+02]),\n",
       " <BarContainer object of 10 artists>)"
      ]
     },
     "execution_count": 17,
     "metadata": {},
     "output_type": "execute_result"
    },
    {
     "data": {
      "image/png": "[encoded data removed]",
      "text/plain": [
       "<Figure size 432x288 with 1 Axes>"
      ]
     },
     "metadata": {
      "needs_background": "light"
     },
     "output_type": "display_data"
    }
   ],
   "source": [
    "plt.hist(sample_100)"
   ]
  },
  {
   "cell_type": "code",
   "execution_count": 22,
   "id": "438cf8a8",
   "metadata": {},
   "outputs": [],
   "source": [
    "sample_100_list = []\n",
    "for _ in range(10000):\n",
    "    sample_100 = np.random.choice(pop_data, 100)\n",
    "    sample_100_list.append(sample_100.mean())"
   ]
  },
  {
   "cell_type": "code",
   "execution_count": null,
   "id": "71c8d868",
   "metadata": {},
   "outputs": [],
   "source": []
  },
  {
   "cell_type": "code",
   "execution_count": 23,
   "id": "e061d3f7",
   "metadata": {},
   "outputs": [],
   "source": [
    "sample_100_list = np.array(sample_100_list)"
   ]
  },
  {
   "cell_type": "code",
   "execution_count": null,
   "id": "8b0ad6d3",
   "metadata": {},
   "outputs": [],
   "source": []
  },
  {
   "cell_type": "code",
   "execution_count": 24,
   "id": "6c2b1b2c",
   "metadata": {},
   "outputs": [
    {
     "data": {
      "text/plain": [
       "100.30566466438883"
      ]
     },
     "execution_count": 24,
     "metadata": {},
     "output_type": "execute_result"
    }
   ],
   "source": [
    "sample_100_list.mean()"
   ]
  },
  {
   "cell_type": "code",
   "execution_count": 25,
   "id": "e5c9e10d",
   "metadata": {},
   "outputs": [
    {
     "data": {
      "text/plain": [
       "(array([  16.,  233., 1086., 2520., 2961., 2038.,  868.,  239.,   36.,\n",
       "           3.]),\n",
       " array([ 66.4359068 ,  74.09761137,  81.75931593,  89.42102049,\n",
       "         97.08272505, 104.74442961, 112.40613417, 120.06783874,\n",
       "        127.7295433 , 135.39124786, 143.05295242]),\n",
       " <BarContainer object of 10 artists>)"
      ]
     },
     "execution_count": 25,
     "metadata": {},
     "output_type": "execute_result"
    },
    {
     "data": {
      "image/png": "[encoded data removed]",
      "text/plain": [
       "<Figure size 432x288 with 1 Axes>"
      ]
     },
     "metadata": {
      "needs_background": "light"
     },
     "output_type": "display_data"
    }
   ],
   "source": [
    "plt.hist(sample_100_list)"
   ]
  },
  {
   "cell_type": "code",
   "execution_count": 26,
   "id": "117841d4",
   "metadata": {},
   "outputs": [
    {
     "data": {
      "text/plain": [
       "100.30566466438883"
      ]
     },
     "execution_count": 26,
     "metadata": {},
     "output_type": "execute_result"
    }
   ],
   "source": [
    "sample_100_list.mean()"
   ]
  },
  {
   "cell_type": "code",
   "execution_count": 27,
   "id": "2d74e9c8",
   "metadata": {},
   "outputs": [
    {
     "data": {
      "text/plain": [
       "98.12455499370347"
      ]
     },
     "execution_count": 27,
     "metadata": {},
     "output_type": "execute_result"
    }
   ],
   "source": [
    "sample_100_list.var()"
   ]
  },
  {
   "cell_type": "code",
   "execution_count": 28,
   "id": "ffc8f86e",
   "metadata": {},
   "outputs": [
    {
     "data": {
      "text/plain": [
       "(100.35978700795846, 9955.76939306549)"
      ]
     },
     "execution_count": 28,
     "metadata": {},
     "output_type": "execute_result"
    }
   ],
   "source": [
    "(pop_data.mean(), pop_data.var())"
   ]
  },
  {
   "cell_type": "code",
   "execution_count": null,
   "id": "889ea2a1",
   "metadata": {},
   "outputs": [],
   "source": []
  },
  {
   "cell_type": "code",
   "execution_count": null,
   "id": "7c2afb77",
   "metadata": {},
   "outputs": [],
   "source": []
  },
  {
   "cell_type": "code",
   "execution_count": null,
   "id": "47cb984e",
   "metadata": {},
   "outputs": [],
   "source": []
  },
  {
   "cell_type": "code",
   "execution_count": null,
   "id": "2f2af634",
   "metadata": {},
   "outputs": [],
   "source": []
  }
 ],
 "metadata": {
  "kernelspec": {
   "display_name": "Python 3",
   "language": "python",
   "name": "python3"
  },
  "language_info": {
   "codemirror_mode": {
    "name": "ipython",
    "version": 3
   },
   "file_extension": ".py",
   "mimetype": "text/x-python",
   "name": "python",
   "nbconvert_exporter": "python",
   "pygments_lexer": "ipython3",
   "version": "3.8.8"
  }
 },
 "nbformat": 4,
 "nbformat_minor": 5
}

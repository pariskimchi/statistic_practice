{
 "cells": [
  {
   "cell_type": "code",
   "execution_count": 1,
   "id": "a3beeda8",
   "metadata": {},
   "outputs": [],
   "source": [
    "import numpy as np\n",
    "import pandas as pd\n",
    "import matplotlib.pyplot as plt \n",
    "%matplotlib inline"
   ]
  },
  {
   "cell_type": "code",
   "execution_count": 2,
   "id": "62c7bb8a",
   "metadata": {},
   "outputs": [
    {
     "data": {
      "text/plain": [
       "(array([1663.,  747.,  329.,  134.,   73.,   34.,   13.,    5.,    0.,\n",
       "           2.]),\n",
       " array([1.16348231e-03, 8.17255031e+01, 1.63449843e+02, 2.45174182e+02,\n",
       "        3.26898522e+02, 4.08622862e+02, 4.90347201e+02, 5.72071541e+02,\n",
       "        6.53795881e+02, 7.35520220e+02, 8.17244560e+02]),\n",
       " <BarContainer object of 10 artists>)"
      ]
     },
     "execution_count": 2,
     "metadata": {},
     "output_type": "execute_result"
    },
    {
     "data": {
      "image/png": "[encoded data removed]",
      "text/plain": [
       "<Figure size 432x288 with 1 Axes>"
      ]
     },
     "metadata": {
      "needs_background": "light"
     },
     "output_type": "display_data"
    }
   ],
   "source": [
    "np.random.seed(42)\n",
    "\n",
    "pop_data = np.random.gamma(1,100,3000)\n",
    "plt.hist(pop_data)"
   ]
  },
  {
   "cell_type": "code",
   "execution_count": 4,
   "id": "b27229e9",
   "metadata": {},
   "outputs": [],
   "source": [
    "# 1. 100 draw of this distribution\n",
    "sample1 = np.random.choice(pop_data,100)"
   ]
  },
  {
   "cell_type": "code",
   "execution_count": 5,
   "id": "d316ea0d",
   "metadata": {},
   "outputs": [
    {
     "data": {
      "text/plain": [
       "10716.243119563425"
      ]
     },
     "execution_count": 5,
     "metadata": {},
     "output_type": "execute_result"
    }
   ],
   "source": [
    "sample1.var()"
   ]
  },
  {
   "cell_type": "code",
   "execution_count": 6,
   "id": "41678823",
   "metadata": {},
   "outputs": [
    {
     "data": {
      "text/plain": [
       "9955.76939306549"
      ]
     },
     "execution_count": 6,
     "metadata": {},
     "output_type": "execute_result"
    }
   ],
   "source": [
    "pop_data.var()"
   ]
  },
  {
   "cell_type": "code",
   "execution_count": 7,
   "id": "d10909fc",
   "metadata": {},
   "outputs": [
    {
     "data": {
      "text/plain": [
       "3000"
      ]
     },
     "execution_count": 7,
     "metadata": {},
     "output_type": "execute_result"
    }
   ],
   "source": [
    "pop_data.size"
   ]
  },
  {
   "cell_type": "code",
   "execution_count": 8,
   "id": "b08457f2",
   "metadata": {},
   "outputs": [],
   "source": [
    "# 3.10000 loop, \n",
    "\n",
    "sample_100 = []\n",
    "for _ in range(10000):\n",
    "    sample = np.random.choice(pop_data,100)\n",
    "    sample_100.append(sample.var())"
   ]
  },
  {
   "cell_type": "code",
   "execution_count": 10,
   "id": "8812a4db",
   "metadata": {},
   "outputs": [
    {
     "data": {
      "text/plain": [
       "(array([ 176., 1338., 2857., 2728., 1695.,  758.,  315.,   91.,   32.,\n",
       "          10.]),\n",
       " array([ 3615.72815393,  5472.35978523,  7328.99141652,  9185.62304782,\n",
       "        11042.25467911, 12898.88631041, 14755.51794171, 16612.149573  ,\n",
       "        18468.7812043 , 20325.41283559, 22182.04446689]),\n",
       " <BarContainer object of 10 artists>)"
      ]
     },
     "execution_count": 10,
     "metadata": {},
     "output_type": "execute_result"
    },
    {
     "data": {
      "image/png": "[encoded data removed]",
      "text/plain": [
       "<Figure size 432x288 with 1 Axes>"
      ]
     },
     "metadata": {
      "needs_background": "light"
     },
     "output_type": "display_data"
    }
   ],
   "source": [
    "plt.hist(sample_100)"
   ]
  },
  {
   "cell_type": "code",
   "execution_count": 11,
   "id": "715665af",
   "metadata": {},
   "outputs": [
    {
     "data": {
      "text/plain": [
       "9955.76939306549"
      ]
     },
     "execution_count": 11,
     "metadata": {},
     "output_type": "execute_result"
    }
   ],
   "source": [
    "# the variance of the population \n",
    "pop_data.var()"
   ]
  },
  {
   "cell_type": "code",
   "execution_count": 13,
   "id": "9e6ab021",
   "metadata": {},
   "outputs": [],
   "source": [
    "# mean of the sample distribution of sample variance \n",
    "sample_100 = np.array(sample_100)"
   ]
  },
  {
   "cell_type": "code",
   "execution_count": 14,
   "id": "6d7e7f7d",
   "metadata": {},
   "outputs": [
    {
     "data": {
      "text/plain": [
       "9874.246085291788"
      ]
     },
     "execution_count": 14,
     "metadata": {},
     "output_type": "execute_result"
    }
   ],
   "source": [
    "sample_100.mean()"
   ]
  },
  {
   "cell_type": "code",
   "execution_count": 15,
   "id": "0d0bed3b",
   "metadata": {},
   "outputs": [
    {
     "data": {
      "text/plain": [
       "6508025.159932937"
      ]
     },
     "execution_count": 15,
     "metadata": {},
     "output_type": "execute_result"
    }
   ],
   "source": [
    "sample_100.var()"
   ]
  },
  {
   "cell_type": "code",
   "execution_count": null,
   "id": "6a8da97b",
   "metadata": {},
   "outputs": [],
   "source": []
  },
  {
   "cell_type": "code",
   "execution_count": null,
   "id": "e09b1ee9",
   "metadata": {},
   "outputs": [],
   "source": []
  },
  {
   "cell_type": "code",
   "execution_count": null,
   "id": "31f41937",
   "metadata": {},
   "outputs": [],
   "source": []
  },
  {
   "cell_type": "code",
   "execution_count": null,
   "id": "733ba286",
   "metadata": {},
   "outputs": [],
   "source": []
  },
  {
   "cell_type": "code",
   "execution_count": null,
   "id": "9f144691",
   "metadata": {},
   "outputs": [],
   "source": []
  }
 ],
 "metadata": {
  "kernelspec": {
   "display_name": "Python 3",
   "language": "python",
   "name": "python3"
  },
  "language_info": {
   "codemirror_mode": {
    "name": "ipython",
    "version": 3
   },
   "file_extension": ".py",
   "mimetype": "text/x-python",
   "name": "python",
   "nbconvert_exporter": "python",
   "pygments_lexer": "ipython3",
   "version": "3.8.8"
  }
 },
 "nbformat": 4,
 "nbformat_minor": 5
}

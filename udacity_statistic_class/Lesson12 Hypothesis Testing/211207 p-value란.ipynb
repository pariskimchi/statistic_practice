{
 "cells": [
  {
   "cell_type": "markdown",
   "id": "c6c74378",
   "metadata": {},
   "source": [
    "## What is a P-value anyway??"
   ]
  },
  {
   "cell_type": "markdown",
   "id": "d3a94d43",
   "metadata": {},
   "source": [
    "## p-value란 \n",
    "    => the probability of observing your statistic if null hypothesis is true\n",
    "    => 통계량 확률 (귀무가설이 맞다고 할 경우에!!!!)\n",
    "    또는 \n",
    "    => one more Extreme in favor of The alternative hypothesis\n",
    "    => 대립가설이 맞을 확률??"
   ]
  },
  {
   "cell_type": "code",
   "execution_count": null,
   "id": "1b65ab7e",
   "metadata": {},
   "outputs": [],
   "source": [
    "# q1:\n",
    "# h0: mean >= 5\n",
    "# h1: mean < 5\n",
    "# sample_mean 10 \n"
   ]
  },
  {
   "cell_type": "code",
   "execution_count": 1,
   "id": "33fa2f62",
   "metadata": {},
   "outputs": [],
   "source": [
    "# pval <= 유의수준 알파 ==> reject H0\n",
    "# pval >= 유의수준 알파 ==> fail to reject H0"
   ]
  },
  {
   "cell_type": "markdown",
   "id": "673a2fe3",
   "metadata": {},
   "source": [
    "# 기본적으로 h0을 기본적으로 사실이라고 믿는것부터 디폴트로 둔다\n",
    "\n",
    "    => everyone is innocent, until proven guilty\n",
    "    ==> h0: everyone is innocent \n",
    "    ==> h1: everyone is guilty(not innocent)\n",
    "    \n",
    "    H0: we faild to reject hypothesis based on the data"
   ]
  }
 ],
 "metadata": {
  "kernelspec": {
   "display_name": "Python 3",
   "language": "python",
   "name": "python3"
  },
  "language_info": {
   "codemirror_mode": {
    "name": "ipython",
    "version": 3
   },
   "file_extension": ".py",
   "mimetype": "text/x-python",
   "name": "python",
   "nbconvert_exporter": "python",
   "pygments_lexer": "ipython3",
   "version": "3.8.8"
  }
 },
 "nbformat": 4,
 "nbformat_minor": 5
}

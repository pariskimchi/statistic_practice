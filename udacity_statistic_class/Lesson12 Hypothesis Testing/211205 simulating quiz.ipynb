{
 "cells": [
  {
   "cell_type": "code",
   "execution_count": 1,
   "id": "3e3171ea",
   "metadata": {},
   "outputs": [],
   "source": [
    "import numpy as np\n",
    "import pandas as pd \n",
    "import matplotlib.pyplot as plt \n",
    "\n",
    "%matplotlib inline \n",
    "np.random.seed(42)\n",
    "\n",
    "df = pd.read_csv('coffee_dataset.csv')\n"
   ]
  },
  {
   "cell_type": "code",
   "execution_count": 2,
   "id": "f02ca527",
   "metadata": {},
   "outputs": [],
   "source": [
    "sample_df = df.sample(200)"
   ]
  },
  {
   "cell_type": "markdown",
   "id": "bfc0f5d5",
   "metadata": {},
   "source": [
    "`1.` If you were interested in studying whether the average height for coffee drinkers is the same as for non-coffee drinkers, what would the null and alternative hypotheses be?  Write them in the cell below, and use your answer to answer the first quiz question below."
   ]
  },
  {
   "cell_type": "code",
   "execution_count": null,
   "id": "b36eefe2",
   "metadata": {},
   "outputs": [],
   "source": [
    "# avg of height for coffee-drinker == avg of height for non-drinker?\n"
   ]
  },
  {
   "cell_type": "markdown",
   "id": "a38ea7cd",
   "metadata": {},
   "source": [
    "\n",
    "h0 : mean_y= mean_n(부등호 있는건 무조건 귀무가설로 둔다)\n",
    "\n",
    "h1 : mean_y != mean_n"
   ]
  },
  {
   "cell_type": "markdown",
   "id": "dd9ec6ef",
   "metadata": {},
   "source": [
    "`2.` If you were interested in studying whether the average height for coffee drinkers is less than non-coffee drinkers, what would the null and alternative hypotheses be?  Write them in the cell below, and use your answer to answer the second quiz question below."
   ]
  },
  {
   "cell_type": "markdown",
   "id": "6f3922da",
   "metadata": {},
   "source": [
    "mean_y< mean_n\n"
   ]
  },
  {
   "cell_type": "markdown",
   "id": "4995ac1b",
   "metadata": {},
   "source": [
    "h1: mean_y < mean_n\\\n",
    "h0: mean_y >= mean_n"
   ]
  },
  {
   "cell_type": "code",
   "execution_count": null,
   "id": "2084a8d9",
   "metadata": {},
   "outputs": [],
   "source": []
  },
  {
   "cell_type": "markdown",
   "id": "d6de571c",
   "metadata": {},
   "source": [
    "`3.` For 10,000 iterations: bootstrap the sample data, calculate the mean height for coffee drinkers and non-coffee drinkers, and calculate the difference in means for each sample.  You will want to have three arrays at the end of the iterations - one for each mean and one for the difference in means.  Use the results of your sampling distribution, to answer the third quiz question below."
   ]
  },
  {
   "cell_type": "code",
   "execution_count": 5,
   "id": "8a977f85",
   "metadata": {},
   "outputs": [],
   "source": [
    "nocoff_means, coff_means, diffs = [], [], []\n",
    "\n",
    "for _ in range(10000):\n",
    "    bootsamp = sample_df.sample(200, replace = True)\n",
    "    coff_mean = bootsamp[bootsamp['drinks_coffee'] == True]['height'].mean()\n",
    "    nocoff_mean = bootsamp[bootsamp['drinks_coffee'] == False]['height'].mean()\n",
    "    # append the info \n",
    "    coff_means.append(coff_mean)\n",
    "    nocoff_means.append(nocoff_mean)\n",
    "    diffs.append(coff_mean - nocoff_mean)  "
   ]
  },
  {
   "cell_type": "code",
   "execution_count": 6,
   "id": "2cb7ae54",
   "metadata": {},
   "outputs": [
    {
     "data": {
      "text/plain": [
       "0.4062103411990494"
      ]
     },
     "execution_count": 6,
     "metadata": {},
     "output_type": "execute_result"
    }
   ],
   "source": [
    "np.std(nocoff_means) # the standard deviation of the sampling distribution for nocoff"
   ]
  },
  {
   "cell_type": "code",
   "execution_count": 7,
   "id": "84d18000",
   "metadata": {},
   "outputs": [
    {
     "data": {
      "text/plain": [
       "0.24162333382854134"
      ]
     },
     "execution_count": 7,
     "metadata": {},
     "output_type": "execute_result"
    }
   ],
   "source": [
    "np.std(coff_means) # the standard deviation of the sampling distribution for coff"
   ]
  },
  {
   "cell_type": "code",
   "execution_count": 8,
   "id": "76388cc7",
   "metadata": {},
   "outputs": [
    {
     "data": {
      "text/plain": [
       "0.4707845365781659"
      ]
     },
     "execution_count": 8,
     "metadata": {},
     "output_type": "execute_result"
    }
   ],
   "source": [
    "np.std(diffs) # the standard deviation for the sampling distribution for difference in means"
   ]
  },
  {
   "cell_type": "code",
   "execution_count": 9,
   "id": "4f342102",
   "metadata": {},
   "outputs": [
    {
     "data": {
      "image/png": "[encoded data removed]",
      "text/plain": [
       "<Figure size 432x288 with 1 Axes>"
      ]
     },
     "metadata": {
      "needs_background": "light"
     },
     "output_type": "display_data"
    }
   ],
   "source": [
    "plt.hist(nocoff_means, alpha = 0.5);\n",
    "plt.hist(coff_means, alpha = 0.5); # They look pretty normal to me!"
   ]
  },
  {
   "cell_type": "code",
   "execution_count": 10,
   "id": "5bf14c7c",
   "metadata": {
    "scrolled": true
   },
   "outputs": [
    {
     "data": {
      "image/png": "[encoded data removed]",
      "text/plain": [
       "<Figure size 432x288 with 1 Axes>"
      ]
     },
     "metadata": {
      "needs_background": "light"
     },
     "output_type": "display_data"
    }
   ],
   "source": [
    "plt.hist(diffs, alpha = 0.5); # again normal - this is by the central limit theorem"
   ]
  },
  {
   "cell_type": "markdown",
   "id": "7df9545e",
   "metadata": {},
   "source": [
    "`4.` Now, use your sampling distribution for the difference in means and [the docs](https://docs.scipy.org/doc/numpy-1.13.0/reference/generated/numpy.random.normal.html) to simulate what you would expect if your sampling distribution were centered on zero.  Also, calculate the observed sample mean difference in `sample_data`. Use your solutions to answer the last questions in the quiz below."
   ]
  },
  {
   "cell_type": "markdown",
   "id": "3d240ebc",
   "metadata": {},
   "source": [
    "** We would expect the sampling distribution to be normal by the Central Limit Theorem, and we know the standard deviation of the sampling distribution of the difference in means from the previous question, so we can use this to simulate draws from the sampling distribution under the null hypothesis.  If there is truly no difference, then the difference between the means should be zero.**"
   ]
  },
  {
   "cell_type": "code",
   "execution_count": 11,
   "id": "e7acfd3e",
   "metadata": {},
   "outputs": [],
   "source": [
    "null_vals = np.random.normal(0, np.std(diffs), 10000) # Here are 10000 draws from the sampling distribution under the null"
   ]
  },
  {
   "cell_type": "code",
   "execution_count": 12,
   "id": "88108f7f",
   "metadata": {},
   "outputs": [
    {
     "data": {
      "image/png": "[encoded data removed]",
      "text/plain": [
       "<Figure size 432x288 with 1 Axes>"
      ]
     },
     "metadata": {
      "needs_background": "light"
     },
     "output_type": "display_data"
    }
   ],
   "source": [
    "plt.hist(null_vals); #Here is the sampling distribution of the difference under the null"
   ]
  },
  {
   "cell_type": "code",
   "execution_count": null,
   "id": "191e24d9",
   "metadata": {},
   "outputs": [],
   "source": []
  }
 ],
 "metadata": {
  "kernelspec": {
   "display_name": "Python 3",
   "language": "python",
   "name": "python3"
  },
  "language_info": {
   "codemirror_mode": {
    "name": "ipython",
    "version": 3
   },
   "file_extension": ".py",
   "mimetype": "text/x-python",
   "name": "python",
   "nbconvert_exporter": "python",
   "pygments_lexer": "ipython3",
   "version": "3.8.8"
  }
 },
 "nbformat": 4,
 "nbformat_minor": 5
}

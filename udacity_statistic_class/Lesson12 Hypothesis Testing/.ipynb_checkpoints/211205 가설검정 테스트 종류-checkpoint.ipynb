{
 "cells": [
  {
   "cell_type": "code",
   "execution_count": 1,
   "id": "b8986d94",
   "metadata": {},
   "outputs": [],
   "source": [
    "import numpy as np\n",
    "import pandas as pd \n",
    "import matplotlib.pyplot as plt \n",
    "%matplotlib inline"
   ]
  },
  {
   "cell_type": "markdown",
   "id": "8e810bff",
   "metadata": {},
   "source": [
    "### 1. One-Sample T test(평균비교-일표본 T검정)\n",
    "    => Testing a population mean(모집단의 평균을 테스트해본다)"
   ]
  },
  {
   "cell_type": "markdown",
   "id": "b8d4bc25",
   "metadata": {},
   "source": [
    "#### 예시: 18~24세 평균적으로 한달 5.4번 인터넷 쇼핑몰 입장 \n",
    "    그래서 이 평균 맞는지 확인 위해서 20명 뽑아서,한달 인터넷쇼핑몰 방문회수 \n",
    "    조사 \n",
    "    ==> 이 자료를 근거로 한달에 5.4번 인터넷 쇼핑몰 입장하는지 아닌지  \n",
    "    유의수준 5%에서 검정해보자"
   ]
  },
  {
   "cell_type": "markdown",
   "id": "bdf2223a",
   "metadata": {},
   "source": [
    " H1: 한달에 5.4번 방문한다 (mean_new = 5.4)\\\n",
    " H0: 한달에 5.4번 방분 안 한다(mean_0 != 5.4)"
   ]
  },
  {
   "cell_type": "code",
   "execution_count": 2,
   "id": "9ef069af",
   "metadata": {},
   "outputs": [],
   "source": [
    "sample = [9,2,6,8,7,4,7,0,4,11,5,5,5,9,4,5,6,1,10,4]"
   ]
  },
  {
   "cell_type": "code",
   "execution_count": null,
   "id": "494e4079",
   "metadata": {},
   "outputs": [],
   "source": []
  }
 ],
 "metadata": {
  "kernelspec": {
   "display_name": "Python 3",
   "language": "python",
   "name": "python3"
  },
  "language_info": {
   "codemirror_mode": {
    "name": "ipython",
    "version": 3
   },
   "file_extension": ".py",
   "mimetype": "text/x-python",
   "name": "python",
   "nbconvert_exporter": "python",
   "pygments_lexer": "ipython3",
   "version": "3.8.8"
  }
 },
 "nbformat": 4,
 "nbformat_minor": 5
}

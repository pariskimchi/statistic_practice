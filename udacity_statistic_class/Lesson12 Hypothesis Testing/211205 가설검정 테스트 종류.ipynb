{
 "cells": [
  {
   "cell_type": "code",
   "execution_count": 1,
   "id": "2b8c1663",
   "metadata": {},
   "outputs": [],
   "source": [
    "import numpy as np\n",
    "import pandas as pd \n",
    "import matplotlib.pyplot as plt \n",
    "%matplotlib inline"
   ]
  },
  {
   "cell_type": "markdown",
   "id": "96ba5dc1",
   "metadata": {},
   "source": [
    "### 1. One-Sample T test(평균비교-일표본 T검정)\n",
    "    => Testing a population mean(모집단의 평균을 테스트해본다)"
   ]
  },
  {
   "cell_type": "markdown",
   "id": "f4807208",
   "metadata": {},
   "source": [
    "#### 예제1) :\n",
    "    => a라는 사람이 매일 식빵 구매 \n",
    "    식빵 무게 500g 맞는지 확인 하려고 매일 무게 기록 \n",
    "    495, 496, 502, 494, 499, 501, 493 \n",
    "    평균 497.1g\n",
    "    표준편차 3.53g\n",
    "    평균이 497.1이므로 500g보다 작다 \n",
    "    단순 평균비교로 컴플레인 거는것보다는 \n",
    "    통계의 가설검정이 필요 "
   ]
  },
  {
   "cell_type": "markdown",
   "id": "1d2e59ab",
   "metadata": {},
   "source": [
    "### 통계적 가설검정 진행 4단계 \n",
    "    1. 귀무가설 대립가설 설정 \n",
    "    2. 검정 통계량 계산 \n",
    "    3. 검정 통계량의 p-value 확인 \n",
    "    4. p-value와 유의 수준 앞라를 비교하여 판정을 내린다 \n",
    "        ==> p-value > 유의수준 a ==> 귀무가설 수용 \n",
    "        ==> p-value < 유의수준 a ===> 귀무가설 기각, 대립가설 수용"
   ]
  },
  {
   "cell_type": "markdown",
   "id": "d9fc74d0",
   "metadata": {},
   "source": [
    "### 1) 귀무가설, 대립 가설 설정 \n",
    "    A는 식빵의 무게가 500g보다 작다고 의심 \n",
    "    \n",
    "    H1(대립가설) mean <500 \n",
    "    H0(귀무가설) mean >=500\n",
    "    "
   ]
  },
  {
   "cell_type": "markdown",
   "id": "e7ee0265",
   "metadata": {},
   "source": [
    "### 2) 검정 통계량 계산 \n",
    "t값 공식은??\\\n",
    "T = (mean- 500) / (std / np.sqrt(n))"
   ]
  },
  {
   "cell_type": "markdown",
   "id": "fc500e23",
   "metadata": {},
   "source": [
    "### 3) 검정 통계량의 p-value 확인 \n",
    "우리 가설 세울때 빵은 500보다 작다는 가설\\\n",
    "==> 이것은 작다 크다의 개념이므로\\\n",
    "==> 그렇기에 단측 검정(one-tailed test)가 된다 \n",
    "==> 만약에 같다 같지 않다의 개념이면 양측 검정(two-tailed test)가 된다"
   ]
  },
  {
   "cell_type": "code",
   "execution_count": 13,
   "id": "8d350c51",
   "metadata": {},
   "outputs": [],
   "source": [
    "import numpy as np\n",
    "import pandas as pd \n",
    "import matplotlib.pyplot as plt \n"
   ]
  },
  {
   "cell_type": "code",
   "execution_count": 17,
   "id": "906daddf",
   "metadata": {},
   "outputs": [],
   "source": [
    "from scipy.stats import ttest_1samp"
   ]
  },
  {
   "cell_type": "code",
   "execution_count": 20,
   "id": "8efa4b74",
   "metadata": {},
   "outputs": [],
   "source": [
    "from scipy import stats"
   ]
  },
  {
   "cell_type": "code",
   "execution_count": 10,
   "id": "bd909a47",
   "metadata": {},
   "outputs": [],
   "source": [
    "sample = [495, 496, 502, 494, 499, 501, 493]"
   ]
  },
  {
   "cell_type": "code",
   "execution_count": 19,
   "id": "6d20c3dd",
   "metadata": {
    "scrolled": true
   },
   "outputs": [
    {
     "data": {
      "text/plain": [
       "Ttest_1sampResult(statistic=-2.140129125019247, pvalue=0.07613679645642618)"
      ]
     },
     "execution_count": 19,
     "metadata": {},
     "output_type": "execute_result"
    }
   ],
   "source": [
    "ttest_1samp(sample,500)"
   ]
  },
  {
   "cell_type": "markdown",
   "id": "916f6cd6",
   "metadata": {},
   "source": [
    "### 위에서 pvalue는 유의수준a에 따른 귀무가설 기각 판정여부 값으로 \n",
    "==> 유의수준 a=0.05일 경우 pvalue가 0.05보다 작으면 귀무가설 기각 \n",
    "==> pvalue가 유의수준 0.05보다 크다면 귀무가설 수용"
   ]
  },
  {
   "cell_type": "code",
   "execution_count": 11,
   "id": "ccaec343",
   "metadata": {},
   "outputs": [],
   "source": [
    "sample = np.array(sample)"
   ]
  },
  {
   "cell_type": "code",
   "execution_count": 12,
   "id": "c661f5b8",
   "metadata": {},
   "outputs": [
    {
     "data": {
      "text/plain": [
       "(497.14285714285717, 3.270149469217028)"
      ]
     },
     "execution_count": 12,
     "metadata": {},
     "output_type": "execute_result"
    }
   ],
   "source": [
    "sample.mean(), sample.std()"
   ]
  },
  {
   "cell_type": "code",
   "execution_count": 14,
   "id": "9a786f8b",
   "metadata": {},
   "outputs": [],
   "source": [
    "t = (sample.mean() - 500) / (sample.std()/np.sqrt(sample.size))"
   ]
  },
  {
   "cell_type": "code",
   "execution_count": 15,
   "id": "7a4da54d",
   "metadata": {},
   "outputs": [
    {
     "data": {
      "text/plain": [
       "-2.3116036533933726"
      ]
     },
     "execution_count": 15,
     "metadata": {},
     "output_type": "execute_result"
    }
   ],
   "source": [
    "t"
   ]
  },
  {
   "cell_type": "code",
   "execution_count": 23,
   "id": "de8a3208",
   "metadata": {},
   "outputs": [],
   "source": [
    "#유의 확률 계산 \n",
    "p = 1- stats.t.cdf(t,3)"
   ]
  },
  {
   "cell_type": "markdown",
   "id": "0fd10955",
   "metadata": {},
   "source": [
    "### Two sample T-test\n",
    "==> 두 독립표본 평균 검정"
   ]
  },
  {
   "cell_type": "code",
   "execution_count": 25,
   "id": "f032cb86",
   "metadata": {},
   "outputs": [],
   "source": [
    "sample_b = np.array([8.8,8.4,7.9,8.7,9.1,9.6])\n",
    "sample_g = np.array([9.9,9.0,11.1,9.6,8.7,10.4,9.5])"
   ]
  },
  {
   "cell_type": "markdown",
   "id": "190eb5aa",
   "metadata": {},
   "source": [
    "## 독립된 두 표본에서 추출한 그룹의 평균차이를 검정하려면 \n",
    "=====> 두 그룹의 분산이 동일하다는 가설을 검정한 이후에\\\n",
    "검정 결과에 따라 다르게 독립표본 t검정을 시행한다 \n"
   ]
  },
  {
   "cell_type": "code",
   "execution_count": null,
   "id": "80da384c",
   "metadata": {},
   "outputs": [],
   "source": []
  },
  {
   "cell_type": "code",
   "execution_count": 26,
   "id": "6997f84f",
   "metadata": {},
   "outputs": [],
   "source": [
    "# 분산 동일성 검정 시행\n",
    "sample_res2 = stats.levene(sample_b, sample_g)"
   ]
  },
  {
   "cell_type": "code",
   "execution_count": 27,
   "id": "269caa47",
   "metadata": {},
   "outputs": [
    {
     "data": {
      "text/plain": [
       "LeveneResult(statistic=0.5208519677996435, pvalue=0.485536773334305)"
      ]
     },
     "execution_count": 27,
     "metadata": {},
     "output_type": "execute_result"
    }
   ],
   "source": [
    "sample_res2"
   ]
  },
  {
   "cell_type": "markdown",
   "id": "a43f7672",
   "metadata": {},
   "source": [
    "#### p값이 통상적인 기준인 0.1보다 크므로 \n",
    "==>두 그룹의 분산이 동일하다"
   ]
  },
  {
   "cell_type": "markdown",
   "id": "3c34a37d",
   "metadata": {},
   "source": [
    "#### 분산이 동일하다는 가정 받아들여졌으므로 \n",
    "\n",
    "==> 독립표본 t-검정 시행 "
   ]
  },
  {
   "cell_type": "code",
   "execution_count": 28,
   "id": "5b914c49",
   "metadata": {},
   "outputs": [],
   "source": [
    "# stats의 ttest_ind()이용, \n",
    "# 두 그룹의 분산이 동일하므로 equal_var=True\n",
    "ttest_res = stats.ttest_ind(sample_b,sample_g,equal_var=True)"
   ]
  },
  {
   "cell_type": "code",
   "execution_count": 29,
   "id": "ae078d02",
   "metadata": {},
   "outputs": [
    {
     "data": {
      "text/plain": [
       "Ttest_indResult(statistic=-2.476489813980959, pvalue=0.030764898866015765)"
      ]
     },
     "execution_count": 29,
     "metadata": {},
     "output_type": "execute_result"
    }
   ],
   "source": [
    "ttest_res"
   ]
  },
  {
   "cell_type": "markdown",
   "id": "a1be38d4",
   "metadata": {},
   "source": [
    "### 검정통계량 t-value가 -2.476, p-value는 0.031\n",
    "==> p값이 유의수준0.05보다 작으므로 \n",
    "귀무가설 기각 ==> 두 지혈제간의 효과차이가 없다는 귀무가설 기각\\\n",
    "==> 대립가설 선택(두 지혈제 간의 효과에는 유의한 차이가 있다)"
   ]
  },
  {
   "cell_type": "code",
   "execution_count": null,
   "id": "45701a0b",
   "metadata": {},
   "outputs": [],
   "source": []
  },
  {
   "cell_type": "markdown",
   "id": "0b6a03c7",
   "metadata": {},
   "source": [
    "### 예제3: 짝지어진 표본 평균 검정(paired T-test)\n",
    "아래자료는 10명의 고혈압 환자에게 혈압 강하제 투여 전 후의 혈압을 측정. \\\n",
    "혈압 강하제의 효과가 있었는지 검정해보자"
   ]
  },
  {
   "cell_type": "code",
   "execution_count": 30,
   "id": "02ee30c4",
   "metadata": {},
   "outputs": [],
   "source": [
    "sample1 = np.array([142,140,144,144,142,146,149,150,142,148])\n",
    "sample2 = np.array([138,136,147,139,143,141,143,145,136,146])"
   ]
  },
  {
   "cell_type": "code",
   "execution_count": 31,
   "id": "81f65658",
   "metadata": {},
   "outputs": [],
   "source": [
    "# 대응 표본의 검정에는 stats모듈의 ttest_rel()\n",
    "\n",
    "pttest_res = stats.ttest_rel(sample1, sample2)"
   ]
  },
  {
   "cell_type": "code",
   "execution_count": 32,
   "id": "3ea6b19e",
   "metadata": {},
   "outputs": [
    {
     "data": {
      "text/plain": [
       "Ttest_relResult(statistic=3.413793103448276, pvalue=0.007703223347263766)"
      ]
     },
     "execution_count": 32,
     "metadata": {},
     "output_type": "execute_result"
    }
   ],
   "source": [
    "pttest_res"
   ]
  },
  {
   "cell_type": "markdown",
   "id": "162c00ea",
   "metadata": {},
   "source": [
    "### p-value가 0.05보다 작으므로 \n",
    "==> 대립가설맞다 + ==> 귀무가설 기각 \\\n",
    "즉 대립가설 맞으므로 혈압강하제는 혈압을 낮추는데 효과가 있다고 해석"
   ]
  },
  {
   "cell_type": "code",
   "execution_count": null,
   "id": "23b11ea7",
   "metadata": {},
   "outputs": [],
   "source": []
  },
  {
   "cell_type": "markdown",
   "id": "9fd66a37",
   "metadata": {},
   "source": []
  },
  {
   "cell_type": "code",
   "execution_count": null,
   "id": "be2a085a",
   "metadata": {},
   "outputs": [],
   "source": []
  },
  {
   "cell_type": "code",
   "execution_count": null,
   "id": "356da89a",
   "metadata": {},
   "outputs": [],
   "source": []
  }
 ],
 "metadata": {
  "kernelspec": {
   "display_name": "Python 3",
   "language": "python",
   "name": "python3"
  },
  "language_info": {
   "codemirror_mode": {
    "name": "ipython",
    "version": 3
   },
   "file_extension": ".py",
   "mimetype": "text/x-python",
   "name": "python",
   "nbconvert_exporter": "python",
   "pygments_lexer": "ipython3",
   "version": "3.8.8"
  }
 },
 "nbformat": 4,
 "nbformat_minor": 5
}

{
 "cells": [
  {
   "cell_type": "markdown",
   "id": "694034f9",
   "metadata": {},
   "source": [
    "## Simulating from the null Hypothesis"
   ]
  },
  {
   "cell_type": "code",
   "execution_count": 2,
   "id": "fede5565",
   "metadata": {},
   "outputs": [],
   "source": [
    "import pandas as pd\n",
    "import numpy as np\n",
    "import matplotlib.pyplot as plt\n",
    "\n",
    "%matplotlib inline\n",
    "np.random.seed(42)\n",
    "\n",
    "full_data = pd.read_csv('coffee_dataset.csv')\n",
    "sample_data = full_data.sample(200)"
   ]
  },
  {
   "cell_type": "markdown",
   "id": "0b273182",
   "metadata": {},
   "source": [
    "`1.` If you were interested in studying whether the average height for coffee drinkers is the same as for non-coffee drinkers, what would the null and alternative hypotheses be?  Write them in the cell below, and use your answer to answer the first quiz question below."
   ]
  },
  {
   "cell_type": "code",
   "execution_count": null,
   "id": "0b3293c4",
   "metadata": {},
   "outputs": [],
   "source": [
    "# sample1: coffee_drinker \n",
    "# sample2 non-coffee_drinker \n",
    "## avg height of two roup are same??\n",
    "\n",
    "# h0: mean_sample1 = mean_sample2 \n",
    "# h1: mean_sample1 != mean_sample2\n"
   ]
  },
  {
   "cell_type": "markdown",
   "id": "707c5f8a",
   "metadata": {},
   "source": [
    "`2.` If you were interested in studying whether the average height for coffee drinkers is less than non-coffee drinkers, what would the null and alternative hypotheses be?  Write them in the cell below, and use your answer to answer the second quiz question below."
   ]
  },
  {
   "cell_type": "code",
   "execution_count": 3,
   "id": "9072d5f9",
   "metadata": {},
   "outputs": [],
   "source": [
    "# avg height of sample1 < meanof sample2 ?\n",
    "\n",
    "# h0 mean_sample1 >= mean_sample2\n",
    "# h1 mean_sample1 < mean_sample2"
   ]
  },
  {
   "cell_type": "code",
   "execution_count": null,
   "id": "17c215de",
   "metadata": {},
   "outputs": [],
   "source": []
  },
  {
   "cell_type": "markdown",
   "id": "ce4324d1",
   "metadata": {},
   "source": [
    "`3.` For 10,000 iterations: bootstrap the sample data, calculate the mean height for coffee drinkers and non-coffee drinkers, and calculate the difference in means for each sample.  You will want to have three arrays at the end of the iterations - one for each mean and one for the difference in means.  Use the results of your sampling distribution, to answer the third quiz question below."
   ]
  },
  {
   "cell_type": "code",
   "execution_count": 5,
   "id": "7798192d",
   "metadata": {},
   "outputs": [
    {
     "data": {
      "text/html": [
       "<div>\n",
       "<style scoped>\n",
       "    .dataframe tbody tr th:only-of-type {\n",
       "        vertical-align: middle;\n",
       "    }\n",
       "\n",
       "    .dataframe tbody tr th {\n",
       "        vertical-align: top;\n",
       "    }\n",
       "\n",
       "    .dataframe thead th {\n",
       "        text-align: right;\n",
       "    }\n",
       "</style>\n",
       "<table border=\"1\" class=\"dataframe\">\n",
       "  <thead>\n",
       "    <tr style=\"text-align: right;\">\n",
       "      <th></th>\n",
       "      <th>user_id</th>\n",
       "      <th>age</th>\n",
       "      <th>drinks_coffee</th>\n",
       "      <th>height</th>\n",
       "    </tr>\n",
       "  </thead>\n",
       "  <tbody>\n",
       "    <tr>\n",
       "      <th>0</th>\n",
       "      <td>4509</td>\n",
       "      <td>&lt;21</td>\n",
       "      <td>False</td>\n",
       "      <td>64.538179</td>\n",
       "    </tr>\n",
       "    <tr>\n",
       "      <th>2467</th>\n",
       "      <td>4929</td>\n",
       "      <td>&gt;=21</td>\n",
       "      <td>True</td>\n",
       "      <td>70.146354</td>\n",
       "    </tr>\n",
       "    <tr>\n",
       "      <th>1868</th>\n",
       "      <td>5837</td>\n",
       "      <td>&gt;=21</td>\n",
       "      <td>True</td>\n",
       "      <td>71.655969</td>\n",
       "    </tr>\n",
       "    <tr>\n",
       "      <th>2396</th>\n",
       "      <td>5117</td>\n",
       "      <td>&gt;=21</td>\n",
       "      <td>True</td>\n",
       "      <td>67.955091</td>\n",
       "    </tr>\n",
       "    <tr>\n",
       "      <th>1743</th>\n",
       "      <td>7575</td>\n",
       "      <td>&gt;=21</td>\n",
       "      <td>True</td>\n",
       "      <td>69.796646</td>\n",
       "    </tr>\n",
       "    <tr>\n",
       "      <th>...</th>\n",
       "      <td>...</td>\n",
       "      <td>...</td>\n",
       "      <td>...</td>\n",
       "      <td>...</td>\n",
       "    </tr>\n",
       "    <tr>\n",
       "      <th>1370</th>\n",
       "      <td>3295</td>\n",
       "      <td>&gt;=21</td>\n",
       "      <td>True</td>\n",
       "      <td>68.308250</td>\n",
       "    </tr>\n",
       "    <tr>\n",
       "      <th>144</th>\n",
       "      <td>7327</td>\n",
       "      <td>&lt;21</td>\n",
       "      <td>False</td>\n",
       "      <td>64.851825</td>\n",
       "    </tr>\n",
       "    <tr>\n",
       "      <th>1195</th>\n",
       "      <td>6397</td>\n",
       "      <td>&lt;21</td>\n",
       "      <td>False</td>\n",
       "      <td>64.555794</td>\n",
       "    </tr>\n",
       "    <tr>\n",
       "      <th>1662</th>\n",
       "      <td>4602</td>\n",
       "      <td>&lt;21</td>\n",
       "      <td>False</td>\n",
       "      <td>72.223726</td>\n",
       "    </tr>\n",
       "    <tr>\n",
       "      <th>1610</th>\n",
       "      <td>5781</td>\n",
       "      <td>&gt;=21</td>\n",
       "      <td>True</td>\n",
       "      <td>68.036460</td>\n",
       "    </tr>\n",
       "  </tbody>\n",
       "</table>\n",
       "<p>200 rows × 4 columns</p>\n",
       "</div>"
      ],
      "text/plain": [
       "      user_id   age  drinks_coffee     height\n",
       "0        4509   <21          False  64.538179\n",
       "2467     4929  >=21           True  70.146354\n",
       "1868     5837  >=21           True  71.655969\n",
       "2396     5117  >=21           True  67.955091\n",
       "1743     7575  >=21           True  69.796646\n",
       "...       ...   ...            ...        ...\n",
       "1370     3295  >=21           True  68.308250\n",
       "144      7327   <21          False  64.851825\n",
       "1195     6397   <21          False  64.555794\n",
       "1662     4602   <21          False  72.223726\n",
       "1610     5781  >=21           True  68.036460\n",
       "\n",
       "[200 rows x 4 columns]"
      ]
     },
     "execution_count": 5,
     "metadata": {},
     "output_type": "execute_result"
    }
   ],
   "source": [
    "sample"
   ]
  },
  {
   "cell_type": "code",
   "execution_count": 7,
   "id": "1f5c1c9b",
   "metadata": {},
   "outputs": [],
   "source": [
    "bootsamp_200_diff_list = []\n",
    "bootsamp_200_y_list =[]\n",
    "bootsamp_200_n_list = []\n",
    "for _ in range(10000):\n",
    "    sample = sample_data.sample(200,replace=True)\n",
    "    \n",
    "    mean_y = sample[sample['drinks_coffee']==True]['height'].mean()\n",
    "    bootsamp_200_y_list.append(mean_y)\n",
    "    \n",
    "    mean_n = sample[sample['drinks_coffee']==False]['height'].mean()\n",
    "    bootsamp_200_n_list.append(mean_n)\n",
    "    \n",
    "    \n",
    "    mean_diff = (mean_y - mean_n)\n",
    "    bootsamp_200_diff_list.append(mean_diff)\n",
    "    "
   ]
  },
  {
   "cell_type": "code",
   "execution_count": 8,
   "id": "7a8b91bd",
   "metadata": {},
   "outputs": [
    {
     "data": {
      "text/plain": [
       "0.4042437432365953"
      ]
     },
     "execution_count": 8,
     "metadata": {},
     "output_type": "execute_result"
    }
   ],
   "source": [
    "# std of sampling distribution for mean , no drink \n",
    "np.std(bootsamp_200_n_list)"
   ]
  },
  {
   "cell_type": "code",
   "execution_count": 9,
   "id": "e6117379",
   "metadata": {},
   "outputs": [
    {
     "data": {
      "text/plain": [
       "0.24769715310344376"
      ]
     },
     "execution_count": 9,
     "metadata": {},
     "output_type": "execute_result"
    }
   ],
   "source": [
    "# std of sampling distribution for mean, y drink \n",
    "np.std(bootsamp_200_y_list)"
   ]
  },
  {
   "cell_type": "code",
   "execution_count": 10,
   "id": "4455b29e",
   "metadata": {},
   "outputs": [
    {
     "data": {
      "text/plain": [
       "0.4707176631965618"
      ]
     },
     "execution_count": 10,
     "metadata": {},
     "output_type": "execute_result"
    }
   ],
   "source": [
    "# std of sampling distribution for diff mean, \n",
    "np.std(bootsamp_200_diff_list)"
   ]
  },
  {
   "cell_type": "code",
   "execution_count": 15,
   "id": "e991d244",
   "metadata": {},
   "outputs": [
    {
     "data": {
      "text/plain": [
       "(array([9.000e+00, 7.600e+01, 5.530e+02, 2.000e+03, 3.477e+03, 2.808e+03,\n",
       "        9.240e+02, 1.470e+02, 5.000e+00, 1.000e+00]),\n",
       " array([67.05907261, 67.28594335, 67.51281409, 67.73968483, 67.96655556,\n",
       "        68.1934263 , 68.42029704, 68.64716777, 68.87403851, 69.10090925,\n",
       "        69.32777998]),\n",
       " <BarContainer object of 10 artists>)"
      ]
     },
     "execution_count": 15,
     "metadata": {},
     "output_type": "execute_result"
    },
    {
     "data": {
      "image/png": "[encoded data removed]",
      "text/plain": [
       "<Figure size 432x288 with 1 Axes>"
      ]
     },
     "metadata": {
      "needs_background": "light"
     },
     "output_type": "display_data"
    }
   ],
   "source": [
    "plt.hist(bootsamp_200_n_list, alpha=0.5)\n",
    "plt.hist(bootsamp_200_y_list, alpha=0.5)\n"
   ]
  },
  {
   "cell_type": "code",
   "execution_count": 12,
   "id": "175b7501",
   "metadata": {},
   "outputs": [
    {
     "data": {
      "text/plain": [
       "(array([  15.,  120.,  728., 1989., 3206., 2657., 1057.,  204.,   18.,\n",
       "           6.]),\n",
       " array([-0.50440337, -0.11119464,  0.28201409,  0.67522282,  1.06843155,\n",
       "         1.46164028,  1.854849  ,  2.24805773,  2.64126646,  3.03447519,\n",
       "         3.42768392]),\n",
       " <BarContainer object of 10 artists>)"
      ]
     },
     "execution_count": 12,
     "metadata": {},
     "output_type": "execute_result"
    },
    {
     "data": {
      "image/png": "[encoded data removed]",
      "text/plain": [
       "<Figure size 432x288 with 1 Axes>"
      ]
     },
     "metadata": {
      "needs_background": "light"
     },
     "output_type": "display_data"
    }
   ],
   "source": [
    "plt.hist(bootsamp_200_diff_list)"
   ]
  },
  {
   "cell_type": "code",
   "execution_count": 13,
   "id": "5734842f",
   "metadata": {},
   "outputs": [
    {
     "data": {
      "text/plain": [
       "0.40425559726656457"
      ]
     },
     "execution_count": 13,
     "metadata": {},
     "output_type": "execute_result"
    }
   ],
   "source": [
    "np.percentile(bootsamp_200_diff_list,2.5)"
   ]
  },
  {
   "cell_type": "code",
   "execution_count": 19,
   "id": "3ad179f3",
   "metadata": {},
   "outputs": [
    {
     "data": {
      "text/plain": [
       "1.3311768319020838"
      ]
     },
     "execution_count": 19,
     "metadata": {},
     "output_type": "execute_result"
    }
   ],
   "source": [
    "np.mean(bootsamp_200_diff_list)"
   ]
  },
  {
   "cell_type": "code",
   "execution_count": null,
   "id": "9ba039bd",
   "metadata": {},
   "outputs": [],
   "source": []
  },
  {
   "cell_type": "code",
   "execution_count": null,
   "id": "22a53860",
   "metadata": {},
   "outputs": [],
   "source": []
  },
  {
   "cell_type": "markdown",
   "id": "e6032878",
   "metadata": {},
   "source": [
    "`4.` Now, use your observed sampling distribution for the difference in means and [the docs](https://docs.scipy.org/doc/numpy-1.13.0/reference/generated/numpy.random.normal.html) to simulate what you would expect the sampling distribution to be if the null hypothesis is true. You can do this be recentering your distribution at zero. Also, calculate the observed sample mean difference in `sample_data`. Use your solutions to answer the last questions in the quiz below."
   ]
  },
  {
   "cell_type": "code",
   "execution_count": 16,
   "id": "7e6fcb88",
   "metadata": {},
   "outputs": [],
   "source": [
    "null_vals = np.random.normal(0, np.std(bootsamp_200_diff_list), 10000)"
   ]
  },
  {
   "cell_type": "code",
   "execution_count": 17,
   "id": "68df88f1",
   "metadata": {},
   "outputs": [
    {
     "data": {
      "text/plain": [
       "(array([3.800e+01, 2.450e+02, 1.073e+03, 2.497e+03, 3.050e+03, 2.152e+03,\n",
       "        7.840e+02, 1.430e+02, 1.700e+01, 1.000e+00]),\n",
       " array([-1.65268971, -1.27391732, -0.89514493, -0.51637255, -0.13760016,\n",
       "         0.24117222,  0.61994461,  0.998717  ,  1.37748938,  1.75626177,\n",
       "         2.13503415]),\n",
       " <BarContainer object of 10 artists>)"
      ]
     },
     "execution_count": 17,
     "metadata": {},
     "output_type": "execute_result"
    },
    {
     "data": {
      "image/png": "[encoded data removed]",
      "text/plain": [
       "<Figure size 432x288 with 1 Axes>"
      ]
     },
     "metadata": {
      "needs_background": "light"
     },
     "output_type": "display_data"
    }
   ],
   "source": [
    "plt.hist(null_vals)"
   ]
  },
  {
   "cell_type": "code",
   "execution_count": null,
   "id": "56eca2ad",
   "metadata": {},
   "outputs": [],
   "source": []
  }
 ],
 "metadata": {
  "kernelspec": {
   "display_name": "Python 3",
   "language": "python",
   "name": "python3"
  },
  "language_info": {
   "codemirror_mode": {
    "name": "ipython",
    "version": 3
   },
   "file_extension": ".py",
   "mimetype": "text/x-python",
   "name": "python",
   "nbconvert_exporter": "python",
   "pygments_lexer": "ipython3",
   "version": "3.8.8"
  }
 },
 "nbformat": 4,
 "nbformat_minor": 5
}

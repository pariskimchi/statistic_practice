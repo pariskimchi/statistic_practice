{
 "cells": [
  {
   "cell_type": "markdown",
   "id": "2b3d62cd",
   "metadata": {},
   "source": [
    "### The Impact of Large Sample Sizes"
   ]
  },
  {
   "cell_type": "code",
   "execution_count": 31,
   "id": "4efa8188",
   "metadata": {},
   "outputs": [],
   "source": [
    "import pandas as pd \n",
    "import numpy as np\n",
    "import matplotlib.pyplot as plt \n",
    "\n",
    "%matplotlib inline \n",
    "np.random.seed(42)\n",
    "\n",
    "full_data = pd.read_csv('coffee_dataset.csv')"
   ]
  },
  {
   "cell_type": "code",
   "execution_count": 32,
   "id": "7bb39b46",
   "metadata": {},
   "outputs": [
    {
     "data": {
      "text/html": [
       "<div>\n",
       "<style scoped>\n",
       "    .dataframe tbody tr th:only-of-type {\n",
       "        vertical-align: middle;\n",
       "    }\n",
       "\n",
       "    .dataframe tbody tr th {\n",
       "        vertical-align: top;\n",
       "    }\n",
       "\n",
       "    .dataframe thead th {\n",
       "        text-align: right;\n",
       "    }\n",
       "</style>\n",
       "<table border=\"1\" class=\"dataframe\">\n",
       "  <thead>\n",
       "    <tr style=\"text-align: right;\">\n",
       "      <th></th>\n",
       "      <th>user_id</th>\n",
       "      <th>age</th>\n",
       "      <th>drinks_coffee</th>\n",
       "      <th>height</th>\n",
       "    </tr>\n",
       "  </thead>\n",
       "  <tbody>\n",
       "    <tr>\n",
       "      <th>0</th>\n",
       "      <td>4509</td>\n",
       "      <td>&lt;21</td>\n",
       "      <td>False</td>\n",
       "      <td>64.538179</td>\n",
       "    </tr>\n",
       "    <tr>\n",
       "      <th>1</th>\n",
       "      <td>1864</td>\n",
       "      <td>&gt;=21</td>\n",
       "      <td>True</td>\n",
       "      <td>65.824249</td>\n",
       "    </tr>\n",
       "    <tr>\n",
       "      <th>2</th>\n",
       "      <td>2060</td>\n",
       "      <td>&lt;21</td>\n",
       "      <td>False</td>\n",
       "      <td>71.319854</td>\n",
       "    </tr>\n",
       "    <tr>\n",
       "      <th>3</th>\n",
       "      <td>7875</td>\n",
       "      <td>&gt;=21</td>\n",
       "      <td>True</td>\n",
       "      <td>68.569404</td>\n",
       "    </tr>\n",
       "    <tr>\n",
       "      <th>4</th>\n",
       "      <td>6254</td>\n",
       "      <td>&lt;21</td>\n",
       "      <td>True</td>\n",
       "      <td>64.020226</td>\n",
       "    </tr>\n",
       "    <tr>\n",
       "      <th>...</th>\n",
       "      <td>...</td>\n",
       "      <td>...</td>\n",
       "      <td>...</td>\n",
       "      <td>...</td>\n",
       "    </tr>\n",
       "    <tr>\n",
       "      <th>2969</th>\n",
       "      <td>5984</td>\n",
       "      <td>&gt;=21</td>\n",
       "      <td>True</td>\n",
       "      <td>68.544084</td>\n",
       "    </tr>\n",
       "    <tr>\n",
       "      <th>2970</th>\n",
       "      <td>5302</td>\n",
       "      <td>&lt;21</td>\n",
       "      <td>True</td>\n",
       "      <td>63.822921</td>\n",
       "    </tr>\n",
       "    <tr>\n",
       "      <th>2971</th>\n",
       "      <td>5978</td>\n",
       "      <td>&gt;=21</td>\n",
       "      <td>True</td>\n",
       "      <td>67.298275</td>\n",
       "    </tr>\n",
       "    <tr>\n",
       "      <th>2972</th>\n",
       "      <td>3900</td>\n",
       "      <td>&lt;21</td>\n",
       "      <td>False</td>\n",
       "      <td>60.095933</td>\n",
       "    </tr>\n",
       "    <tr>\n",
       "      <th>2973</th>\n",
       "      <td>5705</td>\n",
       "      <td>&lt;21</td>\n",
       "      <td>False</td>\n",
       "      <td>63.765869</td>\n",
       "    </tr>\n",
       "  </tbody>\n",
       "</table>\n",
       "<p>2974 rows × 4 columns</p>\n",
       "</div>"
      ],
      "text/plain": [
       "      user_id   age  drinks_coffee     height\n",
       "0        4509   <21          False  64.538179\n",
       "1        1864  >=21           True  65.824249\n",
       "2        2060   <21          False  71.319854\n",
       "3        7875  >=21           True  68.569404\n",
       "4        6254   <21           True  64.020226\n",
       "...       ...   ...            ...        ...\n",
       "2969     5984  >=21           True  68.544084\n",
       "2970     5302   <21           True  63.822921\n",
       "2971     5978  >=21           True  67.298275\n",
       "2972     3900   <21          False  60.095933\n",
       "2973     5705   <21          False  63.765869\n",
       "\n",
       "[2974 rows x 4 columns]"
      ]
     },
     "execution_count": 32,
     "metadata": {},
     "output_type": "execute_result"
    }
   ],
   "source": [
    "full_data"
   ]
  },
  {
   "cell_type": "markdown",
   "id": "dad86ff8",
   "metadata": {},
   "source": [
    "`1.` In this case, imagine we are interested in testing if the mean height of all individuals in `full_data` is equal to 67.60 inches or **different** than 67.60.  First, use **quiz 1** below to state the null and alternative hypotheses for these cases in the cell below. "
   ]
  },
  {
   "cell_type": "markdown",
   "id": "275421c5",
   "metadata": {},
   "source": [
    "\n",
    "h0 mean =67.60\\\n",
    "h1 mean != 67.60"
   ]
  },
  {
   "cell_type": "code",
   "execution_count": 3,
   "id": "873bebff",
   "metadata": {},
   "outputs": [
    {
     "data": {
      "text/plain": [
       "67.59748697307937"
      ]
     },
     "execution_count": 3,
     "metadata": {},
     "output_type": "execute_result"
    }
   ],
   "source": [
    "full_data['height'].mean()"
   ]
  },
  {
   "cell_type": "code",
   "execution_count": null,
   "id": "aa05e185",
   "metadata": {},
   "outputs": [],
   "source": []
  },
  {
   "cell_type": "markdown",
   "id": "ac17942c",
   "metadata": {},
   "source": [
    "`2.` Find:\n",
    "* What is the population mean height?  \n",
    "* What is the standard deviation of the population heights?  Create a sample set of data using the code below.  \n",
    "* What is the sample mean height?  Simulate the sampling distribution for the mean of five values to see the shape and plot a histogram. \n",
    "* What is the standard deviation of the sampling distribution of the mean of five draws? \n",
    "Use **quiz 2** below to assure your answers are correct.  "
   ]
  },
  {
   "cell_type": "code",
   "execution_count": 33,
   "id": "75b638ba",
   "metadata": {},
   "outputs": [
    {
     "data": {
      "text/plain": [
       "67.59748697307937"
      ]
     },
     "execution_count": 33,
     "metadata": {},
     "output_type": "execute_result"
    }
   ],
   "source": [
    "# The population mean \n",
    "full_data['height'].mean()"
   ]
  },
  {
   "cell_type": "code",
   "execution_count": 34,
   "id": "1a42e846",
   "metadata": {},
   "outputs": [
    {
     "data": {
      "text/plain": [
       "3.119433206550344"
      ]
     },
     "execution_count": 34,
     "metadata": {},
     "output_type": "execute_result"
    }
   ],
   "source": [
    "# The population standard deviation \n",
    "full_data['height'].std()"
   ]
  },
  {
   "cell_type": "code",
   "execution_count": 35,
   "id": "321d0473",
   "metadata": {},
   "outputs": [],
   "source": [
    "sample_df = full_data.sample(5)"
   ]
  },
  {
   "cell_type": "code",
   "execution_count": 36,
   "id": "17a9827b",
   "metadata": {},
   "outputs": [
    {
     "data": {
      "text/plain": [
       "67.88234252049084"
      ]
     },
     "execution_count": 36,
     "metadata": {},
     "output_type": "execute_result"
    }
   ],
   "source": [
    "sample_df['height'].mean()"
   ]
  },
  {
   "cell_type": "code",
   "execution_count": 43,
   "id": "cf680f9c",
   "metadata": {},
   "outputs": [],
   "source": [
    "sample_list = []\n",
    "for _ in range(10000):\n",
    "    sample = sample_df.sample(5, replace=True)\n",
    "    sample_mean = sample['height'].mean()\n",
    "    sample_list.append(sample_mean)"
   ]
  },
  {
   "cell_type": "code",
   "execution_count": 44,
   "id": "31fb708a",
   "metadata": {},
   "outputs": [
    {
     "data": {
      "text/plain": [
       "(array([  40.,  184.,  786., 1496., 2273., 2347., 1648.,  809.,  359.,\n",
       "          58.]),\n",
       " array([64.3571538 , 65.05835045, 65.75954709, 66.46074374, 67.16194038,\n",
       "        67.86313703, 68.56433367, 69.26553032, 69.96672696, 70.66792361,\n",
       "        71.36912025]),\n",
       " <BarContainer object of 10 artists>)"
      ]
     },
     "execution_count": 44,
     "metadata": {},
     "output_type": "execute_result"
    },
    {
     "data": {
      "image/png": "[encoded data removed]",
      "text/plain": [
       "<Figure size 432x288 with 1 Axes>"
      ]
     },
     "metadata": {
      "needs_background": "light"
     },
     "output_type": "display_data"
    }
   ],
   "source": [
    "plt.hist(sample_list)"
   ]
  },
  {
   "cell_type": "code",
   "execution_count": 46,
   "id": "ecb19b52",
   "metadata": {},
   "outputs": [
    {
     "data": {
      "text/plain": [
       "1.141199765546674"
      ]
     },
     "execution_count": 46,
     "metadata": {},
     "output_type": "execute_result"
    }
   ],
   "source": [
    "np.std(sample_list)"
   ]
  },
  {
   "cell_type": "markdown",
   "id": "5c6b3cd9",
   "metadata": {},
   "source": [
    "`3.` Using the null and alternative hypotheses set up in question 1 and the results of your sampling distribution in question 2, simulate the mean values you would expect from the null hypothesis.  Use these simulated values to determine a p-value to make a decision about your null and alternative hypotheses.  Check your solution using **quiz 3** and **quiz 4** below.\n",
    "\n",
    "**Hint:** Use the numpy documentation [here](https://docs.scipy.org/doc/numpy-1.13.0/reference/generated/numpy.random.normal.html) to assist with your solution."
   ]
  },
  {
   "cell_type": "markdown",
   "id": "9925adbd",
   "metadata": {},
   "source": [
    "h0: mean = 67.60\\\n",
    "h1: mean != 67.60"
   ]
  },
  {
   "cell_type": "code",
   "execution_count": 55,
   "id": "32799f01",
   "metadata": {},
   "outputs": [],
   "source": [
    "# p-value 구하기"
   ]
  },
  {
   "cell_type": "code",
   "execution_count": 52,
   "id": "19ed8bdd",
   "metadata": {},
   "outputs": [],
   "source": [
    "from scipy import stats"
   ]
  },
  {
   "cell_type": "code",
   "execution_count": 53,
   "id": "54a0274f",
   "metadata": {},
   "outputs": [],
   "source": [
    "p = stats.ttest_1samp(sample_list, 67.60)"
   ]
  },
  {
   "cell_type": "code",
   "execution_count": 54,
   "id": "67c7be0c",
   "metadata": {
    "scrolled": true
   },
   "outputs": [
    {
     "data": {
      "text/plain": [
       "Ttest_1sampResult(statistic=26.571387609302636, pvalue=2.2293573377210066e-150)"
      ]
     },
     "execution_count": 54,
     "metadata": {},
     "output_type": "execute_result"
    }
   ],
   "source": [
    "p"
   ]
  },
  {
   "cell_type": "markdown",
   "id": "81d8518c",
   "metadata": {},
   "source": [
    "### p-value구하기 다른 방법"
   ]
  },
  {
   "cell_type": "code",
   "execution_count": 58,
   "id": "159f0661",
   "metadata": {},
   "outputs": [],
   "source": [
    "null_mean = 67.60\n",
    "null_vals = np.random.normal(null_mean,np.std(sample_list), 10000)"
   ]
  },
  {
   "cell_type": "code",
   "execution_count": 61,
   "id": "59fd644b",
   "metadata": {},
   "outputs": [
    {
     "data": {
      "text/plain": [
       "<matplotlib.lines.Line2D at 0x1ffcbd6df70>"
      ]
     },
     "execution_count": 61,
     "metadata": {},
     "output_type": "execute_result"
    },
    {
     "data": {
      "image/png": "[encoded data removed]",
      "text/plain": [
       "<Figure size 432x288 with 1 Axes>"
      ]
     },
     "metadata": {
      "needs_background": "light"
     },
     "output_type": "display_data"
    }
   ],
   "source": [
    "plt.hist(null_vals)\n",
    "plt.axvline(x=sample_df['height'].mean(), color='red')"
   ]
  },
  {
   "cell_type": "code",
   "execution_count": 62,
   "id": "d459a2e0",
   "metadata": {},
   "outputs": [],
   "source": [
    "# for a two sided hypothesis, we want to loot at anything \n",
    "# 양측으로 검정 \n",
    "obs_mean = sample_df.height.mean()"
   ]
  },
  {
   "cell_type": "code",
   "execution_count": 65,
   "id": "855c22de",
   "metadata": {},
   "outputs": [
    {
     "name": "stdout",
     "output_type": "stream",
     "text": [
      "0.403\n"
     ]
    }
   ],
   "source": [
    "# 통계량이 관찰된것보다 높을 확률 구하기 => p-value 구하기 \n",
    "prob_more_extreme_high = (null_vals > obs_mean).mean()\n",
    "print(prob_more_extreme_high)"
   ]
  },
  {
   "cell_type": "code",
   "execution_count": 67,
   "id": "09c617da",
   "metadata": {},
   "outputs": [
    {
     "data": {
      "text/plain": [
       "0.4031"
      ]
     },
     "execution_count": 67,
     "metadata": {},
     "output_type": "execute_result"
    }
   ],
   "source": [
    "# 통계량이 관찰된것보다 적을 확률 구하기 \n",
    "prob_more_extreme_low = (null_mean - (obs_mean - null_mean)> null_vals).mean()\n",
    "prob_more_extreme_low"
   ]
  },
  {
   "cell_type": "code",
   "execution_count": 72,
   "id": "4554cb40",
   "metadata": {},
   "outputs": [
    {
     "data": {
      "text/plain": [
       "0.8061"
      ]
     },
     "execution_count": 72,
     "metadata": {},
     "output_type": "execute_result"
    }
   ],
   "source": [
    "p_val = prob_more_extreme_low + prob_more_extreme_high\n",
    "p_val"
   ]
  },
  {
   "cell_type": "code",
   "execution_count": 74,
   "id": "5b6026c7",
   "metadata": {},
   "outputs": [
    {
     "data": {
      "text/plain": [
       "<matplotlib.lines.Line2D at 0x1ffcbf52ca0>"
      ]
     },
     "execution_count": 74,
     "metadata": {},
     "output_type": "execute_result"
    },
    {
     "data": {
      "image/png": "[encoded data removed]",
      "text/plain": [
       "<Figure size 432x288 with 1 Axes>"
      ]
     },
     "metadata": {
      "needs_background": "light"
     },
     "output_type": "display_data"
    }
   ],
   "source": [
    "upper_bound = obs_mean \n",
    "lower_bound = null_mean - (obs_mean - null_mean)\n",
    "\n",
    "plt.hist(null_vals)\n",
    "plt.axvline(x=lower_bound, color='red')\n",
    "plt.axvline(x=upper_bound, color='green')\n"
   ]
  },
  {
   "cell_type": "markdown",
   "id": "fbb73a85",
   "metadata": {},
   "source": [
    "`4.` Now imagine if you received the same sample mean as you calculated from the sample in question 1 above, but that you actually retrieved it from a sample of 300.  What would the new standard deviation be for your sampling distribution for the mean of 300 values?  Additionally, what would your new p-value be for choosing between the null and alternative hypotheses you set up? Simulate the sampling distribution for the mean of five values to see the shape and plot a histogram.  Use your solutions here to answer the second to last quiz question below.\n",
    "\n",
    "**Hint:**  If you get stuck, notice you can use the solution from quiz regarding finding the p-value earlier to assist with obtaining this answer with just a few small changes."
   ]
  },
  {
   "cell_type": "code",
   "execution_count": 102,
   "id": "1335d470",
   "metadata": {},
   "outputs": [],
   "source": [
    "sample2 = full_data.sample(300)"
   ]
  },
  {
   "cell_type": "code",
   "execution_count": 103,
   "id": "58747788",
   "metadata": {},
   "outputs": [
    {
     "data": {
      "text/plain": [
       "67.65859929806706"
      ]
     },
     "execution_count": 103,
     "metadata": {},
     "output_type": "execute_result"
    }
   ],
   "source": [
    "# sample2' height mean \n",
    "sample2.height.mean()"
   ]
  },
  {
   "cell_type": "code",
   "execution_count": 104,
   "id": "d360bf8a",
   "metadata": {},
   "outputs": [],
   "source": [
    "# bootsampling \n",
    "sample2_list = []\n",
    "for _ in range(10000):\n",
    "    sample = sample2.sample(300, replace=True)\n",
    "    sample_mean = sample.height.mean()\n",
    "    sample2_list.append(sample_mean)\n",
    "    "
   ]
  },
  {
   "cell_type": "code",
   "execution_count": 105,
   "id": "1281ba74",
   "metadata": {},
   "outputs": [
    {
     "data": {
      "text/plain": [
       "0.17686993766391831"
      ]
     },
     "execution_count": 105,
     "metadata": {},
     "output_type": "execute_result"
    }
   ],
   "source": [
    "# sample 300 std \n",
    "std_sample2 = np.std(sample2_list)\n",
    "std_sample2"
   ]
  },
  {
   "cell_type": "code",
   "execution_count": 106,
   "id": "3e4b0266",
   "metadata": {},
   "outputs": [],
   "source": [
    "null_vals = np.random.normal(null_mean, std_sample2, 10000)"
   ]
  },
  {
   "cell_type": "code",
   "execution_count": 107,
   "id": "24f2c4a8",
   "metadata": {},
   "outputs": [
    {
     "data": {
      "text/plain": [
       "<matplotlib.lines.Line2D at 0x1ffcc29fbe0>"
      ]
     },
     "execution_count": 107,
     "metadata": {},
     "output_type": "execute_result"
    },
    {
     "data": {
      "image/png": "[encoded data removed]",
      "text/plain": [
       "<Figure size 432x288 with 1 Axes>"
      ]
     },
     "metadata": {
      "needs_background": "light"
     },
     "output_type": "display_data"
    }
   ],
   "source": [
    "upper_bound = obs_mean \n",
    "lower_bound = null_mean - (obs_mean - null_mean)\n",
    "\n",
    "plt.hist(null_vals)\n",
    "plt.axvline(x=lower_bound, color='red')\n",
    "plt.axvline(x=upper_bound, color='green')"
   ]
  },
  {
   "cell_type": "code",
   "execution_count": 108,
   "id": "f8134c4a",
   "metadata": {},
   "outputs": [
    {
     "data": {
      "text/plain": [
       "0.0533"
      ]
     },
     "execution_count": 108,
     "metadata": {},
     "output_type": "execute_result"
    }
   ],
   "source": [
    "# p-value 구하기 \n",
    "\n",
    "# probability of a statistic lower than observed \n",
    "prob_more_extreme_low = (null_vals < lower_bound).mean()\n",
    "prob_more_extreme_low"
   ]
  },
  {
   "cell_type": "code",
   "execution_count": 109,
   "id": "0d059f3b",
   "metadata": {},
   "outputs": [
    {
     "data": {
      "text/plain": [
       "0.0543"
      ]
     },
     "execution_count": 109,
     "metadata": {},
     "output_type": "execute_result"
    }
   ],
   "source": [
    "# probability a statistic is more extreme higher \n",
    "prob_more_extreme_high = (upper_bound < null_vals).mean()\n",
    "prob_more_extreme_high"
   ]
  },
  {
   "cell_type": "code",
   "execution_count": 110,
   "id": "2fa7d2a4",
   "metadata": {},
   "outputs": [
    {
     "data": {
      "text/plain": [
       "0.1076"
      ]
     },
     "execution_count": 110,
     "metadata": {},
     "output_type": "execute_result"
    }
   ],
   "source": [
    "pval = prob_more_extreme_low + prob_more_extreme_high\n",
    "pval"
   ]
  },
  {
   "cell_type": "code",
   "execution_count": null,
   "id": "8d28d5c2",
   "metadata": {},
   "outputs": [],
   "source": []
  },
  {
   "cell_type": "code",
   "execution_count": null,
   "id": "c556f26c",
   "metadata": {},
   "outputs": [],
   "source": []
  }
 ],
 "metadata": {
  "kernelspec": {
   "display_name": "Python 3",
   "language": "python",
   "name": "python3"
  },
  "language_info": {
   "codemirror_mode": {
    "name": "ipython",
    "version": 3
   },
   "file_extension": ".py",
   "mimetype": "text/x-python",
   "name": "python",
   "nbconvert_exporter": "python",
   "pygments_lexer": "ipython3",
   "version": "3.8.8"
  }
 },
 "nbformat": 4,
 "nbformat_minor": 5
}

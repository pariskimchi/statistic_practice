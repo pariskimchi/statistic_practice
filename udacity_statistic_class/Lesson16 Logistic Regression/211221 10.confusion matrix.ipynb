{
 "cells": [
  {
   "cell_type": "code",
   "execution_count": 1,
   "id": "51b9e2ab",
   "metadata": {},
   "outputs": [
    {
     "data": {
      "text/plain": [
       "0.625"
      ]
     },
     "execution_count": 1,
     "metadata": {},
     "output_type": "execute_result"
    }
   ],
   "source": [
    "10/16"
   ]
  },
  {
   "cell_type": "markdown",
   "id": "53d286ea",
   "metadata": {},
   "source": [
    "## Recall?\n",
    "    => True positive / (true positive + False Negative).\n",
    "    ==> real positive classified \n",
    "   \n",
    "## Precision?\n",
    "    => True positive / (True positive + False Positive) \n",
    "    ==> all classified positive"
   ]
  },
  {
   "cell_type": "code",
   "execution_count": 2,
   "id": "7a1f5cac",
   "metadata": {},
   "outputs": [
    {
     "data": {
      "text/plain": [
       "0.873015873015873"
      ]
     },
     "execution_count": 2,
     "metadata": {},
     "output_type": "execute_result"
    }
   ],
   "source": [
    "55/63"
   ]
  },
  {
   "cell_type": "code",
   "execution_count": 3,
   "id": "0c61c159",
   "metadata": {},
   "outputs": [
    {
     "data": {
      "text/plain": [
       "0.8208955223880597"
      ]
     },
     "execution_count": 3,
     "metadata": {},
     "output_type": "execute_result"
    }
   ],
   "source": [
    "55/67"
   ]
  },
  {
   "cell_type": "markdown",
   "id": "b2c828c8",
   "metadata": {},
   "source": [
    "bush "
   ]
  },
  {
   "cell_type": "code",
   "execution_count": 4,
   "id": "bc4d45b5",
   "metadata": {},
   "outputs": [
    {
     "data": {
      "text/plain": [
       "0.968503937007874"
      ]
     },
     "execution_count": 4,
     "metadata": {},
     "output_type": "execute_result"
    }
   ],
   "source": [
    "123/127"
   ]
  },
  {
   "cell_type": "code",
   "execution_count": 7,
   "id": "7f8cd7a9",
   "metadata": {
    "scrolled": true
   },
   "outputs": [
    {
     "data": {
      "text/plain": [
       "0.7884615384615384"
      ]
     },
     "execution_count": 7,
     "metadata": {},
     "output_type": "execute_result"
    }
   ],
   "source": [
    "123/(1+8+8+123+7+2+7)"
   ]
  },
  {
   "cell_type": "code",
   "execution_count": 9,
   "id": "6d14c08b",
   "metadata": {},
   "outputs": [
    {
     "data": {
      "text/plain": [
       "266"
      ]
     },
     "execution_count": 9,
     "metadata": {},
     "output_type": "execute_result"
    }
   ],
   "source": [
    "# True positives \n"
   ]
  },
  {
   "cell_type": "code",
   "execution_count": 10,
   "id": "43993882",
   "metadata": {},
   "outputs": [
    {
     "data": {
      "text/plain": [
       "8"
      ]
     },
     "execution_count": 10,
     "metadata": {},
     "output_type": "execute_result"
    }
   ],
   "source": [
    "4+1+2+1"
   ]
  },
  {
   "cell_type": "code",
   "execution_count": null,
   "id": "44021f96",
   "metadata": {},
   "outputs": [],
   "source": [
    "# TP \n",
    "25\n",
    "# False Positive \n",
    "2\n",
    "# False negative \n",
    "11"
   ]
  }
 ],
 "metadata": {
  "kernelspec": {
   "display_name": "Python 3",
   "language": "python",
   "name": "python3"
  },
  "language_info": {
   "codemirror_mode": {
    "name": "ipython",
    "version": 3
   },
   "file_extension": ".py",
   "mimetype": "text/x-python",
   "name": "python",
   "nbconvert_exporter": "python",
   "pygments_lexer": "ipython3",
   "version": "3.8.8"
  }
 },
 "nbformat": 4,
 "nbformat_minor": 5
}
